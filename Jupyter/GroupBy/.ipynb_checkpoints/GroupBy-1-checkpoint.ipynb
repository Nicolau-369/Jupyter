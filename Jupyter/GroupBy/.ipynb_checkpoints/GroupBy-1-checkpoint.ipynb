{
 "cells": [
  {
   "cell_type": "code",
   "execution_count": 2,
   "id": "9f1ce9c3-f274-411c-bab7-a973129c3aa2",
   "metadata": {},
   "outputs": [],
   "source": [
    "import pandas as pd\n",
    "import numpy as np"
   ]
  },
  {
   "cell_type": "code",
   "execution_count": 5,
   "id": "88411388-08f6-4c11-94ae-a74f418b9a29",
   "metadata": {},
   "outputs": [],
   "source": [
    "frame = pd.DataFrame({'data1': np.random.randn(1000),\n",
    "                      ......: 'data2': np.random.randn(1000)})"
   ]
  },
  {
   "cell_type": "code",
   "execution_count": 6,
   "id": "a12b9ae2-1328-4d81-8b2b-93d785aac16c",
   "metadata": {},
   "outputs": [],
   "source": [
    "quartiles = pd.cut(frame.data1, 4)"
   ]
  },
  {
   "cell_type": "code",
   "execution_count": 7,
   "id": "c83d801d-c48c-4cbc-b72c-280e5a49061d",
   "metadata": {},
   "outputs": [
    {
     "data": {
      "text/plain": [
       "0     (-1.484, 0.121]\n",
       "1      (0.121, 1.727]\n",
       "2    (-3.096, -1.484]\n",
       "3     (-1.484, 0.121]\n",
       "4     (-1.484, 0.121]\n",
       "5      (0.121, 1.727]\n",
       "6    (-3.096, -1.484]\n",
       "7     (-1.484, 0.121]\n",
       "8      (0.121, 1.727]\n",
       "9      (0.121, 1.727]\n",
       "Name: data1, dtype: category\n",
       "Categories (4, interval[float64, right]): [(-3.096, -1.484] < (-1.484, 0.121] < (0.121, 1.727] < (1.727, 3.332]]"
      ]
     },
     "execution_count": 7,
     "metadata": {},
     "output_type": "execute_result"
    }
   ],
   "source": [
    "quartiles[:10]"
   ]
  },
  {
   "cell_type": "code",
   "execution_count": 9,
   "id": "3a580c6d-a30b-4dc0-9f80-d05fdcaf628e",
   "metadata": {},
   "outputs": [
    {
     "name": "stderr",
     "output_type": "stream",
     "text": [
      "/tmp/ipykernel_22333/3611942682.py:1: FutureWarning: The default of observed=False is deprecated and will be changed to True in a future version of pandas. Pass observed=False to retain current behavior or observed=True to adopt the future default and silence this warning.\n",
      "  grouped = frame.data2.groupby(quartiles)\n"
     ]
    }
   ],
   "source": [
    "grouped = frame.data2.groupby(quartiles)"
   ]
  },
  {
   "cell_type": "code",
   "execution_count": 11,
   "id": "d0128224-0970-4e46-bff0-7c6f448f0b3b",
   "metadata": {},
   "outputs": [],
   "source": [
    "grouping = pd.qcut(frame.data1, 10, labels=False)"
   ]
  },
  {
   "cell_type": "code",
   "execution_count": 12,
   "id": "bd8b60e5-5497-4ca7-96cb-b8bb248adf86",
   "metadata": {},
   "outputs": [],
   "source": [
    "grouped = frame.data2.groupby(grouping)"
   ]
  },
  {
   "cell_type": "code",
   "execution_count": 14,
   "id": "7d3d134b-7841-4e77-9667-4623c8b729c0",
   "metadata": {},
   "outputs": [],
   "source": [
    "s = pd.Series(np.random.randn(6))"
   ]
  },
  {
   "cell_type": "code",
   "execution_count": 15,
   "id": "d23bbc12-e132-4d29-aa67-bcbe3e243258",
   "metadata": {},
   "outputs": [],
   "source": [
    "s[::2] = np.nan"
   ]
  },
  {
   "cell_type": "code",
   "execution_count": 16,
   "id": "b2725453-a592-4a30-94e2-ae27595913f6",
   "metadata": {},
   "outputs": [
    {
     "data": {
      "text/plain": [
       "0         NaN\n",
       "1   -0.760957\n",
       "2         NaN\n",
       "3    0.576639\n",
       "4         NaN\n",
       "5   -0.867418\n",
       "dtype: float64"
      ]
     },
     "execution_count": 16,
     "metadata": {},
     "output_type": "execute_result"
    }
   ],
   "source": [
    "s"
   ]
  },
  {
   "cell_type": "code",
   "execution_count": 17,
   "id": "01f4ee01-b433-4e4b-8009-814be2525b5c",
   "metadata": {},
   "outputs": [
    {
     "data": {
      "text/plain": [
       "0   -0.350579\n",
       "1   -0.760957\n",
       "2   -0.350579\n",
       "3    0.576639\n",
       "4   -0.350579\n",
       "5   -0.867418\n",
       "dtype: float64"
      ]
     },
     "execution_count": 17,
     "metadata": {},
     "output_type": "execute_result"
    }
   ],
   "source": [
    "s.fillna(s.mean())"
   ]
  },
  {
   "cell_type": "code",
   "execution_count": 18,
   "id": "c7775736-e7f2-4a5e-a570-d2d977dcf08a",
   "metadata": {},
   "outputs": [],
   "source": [
    "states = ['Roma', 'Milão', 'Toscana', 'Florença',\n",
    "          ......: 'Sicília', 'Nápoles', 'Veneza', 'Bolonha']"
   ]
  },
  {
   "cell_type": "code",
   "execution_count": 19,
   "id": "114f2814-8e54-4c85-a6bf-80e80addd8b9",
   "metadata": {},
   "outputs": [],
   "source": [
    "group_key = ['East'] * 4 + ['West'] * 4"
   ]
  },
  {
   "cell_type": "code",
   "execution_count": 20,
   "id": "14950ab9-73d3-4746-adbf-58ac42b5e453",
   "metadata": {},
   "outputs": [],
   "source": [
    "data = pd.Series(np.random.randn(8), index=states)"
   ]
  },
  {
   "cell_type": "code",
   "execution_count": 21,
   "id": "b8424589-0c7a-4f33-b04c-af942c0bbedf",
   "metadata": {},
   "outputs": [
    {
     "data": {
      "text/plain": [
       "Roma       -1.129704\n",
       "Milão      -2.275783\n",
       "Toscana     0.986035\n",
       "Florença   -0.642211\n",
       "Sicília    -0.418958\n",
       "Nápoles    -2.940873\n",
       "Veneza     -1.613359\n",
       "Bolonha     0.381441\n",
       "dtype: float64"
      ]
     },
     "execution_count": 21,
     "metadata": {},
     "output_type": "execute_result"
    }
   ],
   "source": [
    "data"
   ]
  },
  {
   "cell_type": "code",
   "execution_count": 22,
   "id": "8215a0d6-257f-4019-8f08-2c9d46ff8057",
   "metadata": {},
   "outputs": [],
   "source": [
    "data[['Roma', 'Milão', 'Toscana']] = np.nan"
   ]
  },
  {
   "cell_type": "code",
   "execution_count": 23,
   "id": "50eabf1e-9b8f-4b1b-8770-6988b584a889",
   "metadata": {},
   "outputs": [
    {
     "data": {
      "text/plain": [
       "Roma             NaN\n",
       "Milão            NaN\n",
       "Toscana          NaN\n",
       "Florença   -0.642211\n",
       "Sicília    -0.418958\n",
       "Nápoles    -2.940873\n",
       "Veneza     -1.613359\n",
       "Bolonha     0.381441\n",
       "dtype: float64"
      ]
     },
     "execution_count": 23,
     "metadata": {},
     "output_type": "execute_result"
    }
   ],
   "source": [
    "data"
   ]
  },
  {
   "cell_type": "code",
   "execution_count": 24,
   "id": "ab78eb40-9e5f-41ac-a492-88e62bb99892",
   "metadata": {},
   "outputs": [
    {
     "data": {
      "text/plain": [
       "East   -0.642211\n",
       "West   -1.147937\n",
       "dtype: float64"
      ]
     },
     "execution_count": 24,
     "metadata": {},
     "output_type": "execute_result"
    }
   ],
   "source": [
    "data.groupby(group_key).mean()"
   ]
  },
  {
   "cell_type": "code",
   "execution_count": 25,
   "id": "814a76c5-3c07-4b3f-8070-b04ea477ae8c",
   "metadata": {},
   "outputs": [],
   "source": [
    "fill_mean = lambda g: g.fillna(g.mean())"
   ]
  },
  {
   "cell_type": "code",
   "execution_count": 26,
   "id": "f0b0725e-3cb7-41e5-aae0-1a1b3935e926",
   "metadata": {},
   "outputs": [
    {
     "data": {
      "text/plain": [
       "East  Roma       -0.642211\n",
       "      Milão      -0.642211\n",
       "      Toscana    -0.642211\n",
       "      Florença   -0.642211\n",
       "West  Sicília    -0.418958\n",
       "      Nápoles    -2.940873\n",
       "      Veneza     -1.613359\n",
       "      Bolonha     0.381441\n",
       "dtype: float64"
      ]
     },
     "execution_count": 26,
     "metadata": {},
     "output_type": "execute_result"
    }
   ],
   "source": [
    "data.groupby(group_key).apply(fill_mean)"
   ]
  },
  {
   "cell_type": "code",
   "execution_count": 27,
   "id": "e52bba2a-68d6-449a-a6d0-40476acc1fd4",
   "metadata": {},
   "outputs": [],
   "source": [
    "fill_values = {'East': 0.5, 'West': -1}"
   ]
  },
  {
   "cell_type": "code",
   "execution_count": 28,
   "id": "8581e5a7-f11e-472d-a31d-7df748227f53",
   "metadata": {},
   "outputs": [],
   "source": [
    "fill_func = lambda g: g.fillna(fill_values[g.name])"
   ]
  },
  {
   "cell_type": "code",
   "execution_count": 29,
   "id": "9c320c98-497c-42ac-a109-e1f1d1bde143",
   "metadata": {},
   "outputs": [
    {
     "data": {
      "text/plain": [
       "East  Roma        0.500000\n",
       "      Milão       0.500000\n",
       "      Toscana     0.500000\n",
       "      Florença   -0.642211\n",
       "West  Sicília    -0.418958\n",
       "      Nápoles    -2.940873\n",
       "      Veneza     -1.613359\n",
       "      Bolonha     0.381441\n",
       "dtype: float64"
      ]
     },
     "execution_count": 29,
     "metadata": {},
     "output_type": "execute_result"
    }
   ],
   "source": [
    "data.groupby(group_key).apply(fill_func)"
   ]
  },
  {
   "cell_type": "code",
   "execution_count": null,
   "id": "c308e8fd-be6b-444a-9352-ebb06e63bfdf",
   "metadata": {},
   "outputs": [],
   "source": []
  }
 ],
 "metadata": {
  "kernelspec": {
   "display_name": "Python 3 (ipykernel)",
   "language": "python",
   "name": "python3"
  },
  "language_info": {
   "codemirror_mode": {
    "name": "ipython",
    "version": 3
   },
   "file_extension": ".py",
   "mimetype": "text/x-python",
   "name": "python",
   "nbconvert_exporter": "python",
   "pygments_lexer": "ipython3",
   "version": "3.12.1"
  }
 },
 "nbformat": 4,
 "nbformat_minor": 5
}
