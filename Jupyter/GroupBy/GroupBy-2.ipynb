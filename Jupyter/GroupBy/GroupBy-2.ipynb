{
 "cells": [
  {
   "cell_type": "code",
   "execution_count": 2,
   "id": "24d61026-7c9e-401e-9027-bfc2b3aeb3fc",
   "metadata": {},
   "outputs": [],
   "source": [
    "import numpy as np\n",
    "import pandas as pd"
   ]
  },
  {
   "cell_type": "code",
   "execution_count": 3,
   "id": "40f9373b-fd7e-4992-b728-f97b06d5cf03",
   "metadata": {},
   "outputs": [],
   "source": [
    "# Copas (Hearts), Espada (Spades), Paus (Clubs), Ouro (Diamonds)\n",
    "suits = ['H', 'S', 'C', 'D']\n",
    "card_val = (list(range(1, 11)) + [10] * 3) * 4\n",
    "base_names = ['A'] + list(range(2, 11)) + ['J', 'K', 'Q']\n",
    "cards = []\n",
    "for suit in ['H', 'S', 'C', 'D']:\n",
    "    cards.extend(str(num) + suit for num in base_names)"
   ]
  },
  {
   "cell_type": "code",
   "execution_count": 4,
   "id": "892ea265-37a8-4ba3-8fbb-dea36d69ba21",
   "metadata": {},
   "outputs": [],
   "source": [
    "deck = pd.Series(card_val, index=cards)"
   ]
  },
  {
   "cell_type": "code",
   "execution_count": 5,
   "id": "7bce108c-b61f-46e6-a230-a17b5d9d868c",
   "metadata": {},
   "outputs": [
    {
     "data": {
      "text/plain": [
       "AH      1\n",
       "2H      2\n",
       "3H      3\n",
       "4H      4\n",
       "5H      5\n",
       "6H      6\n",
       "7H      7\n",
       "8H      8\n",
       "9H      9\n",
       "10H    10\n",
       "JH     10\n",
       "KH     10\n",
       "QH     10\n",
       "dtype: int64"
      ]
     },
     "execution_count": 5,
     "metadata": {},
     "output_type": "execute_result"
    }
   ],
   "source": [
    "deck[:13]"
   ]
  },
  {
   "cell_type": "code",
   "execution_count": 13,
   "id": "cb77593a-cec7-43a2-9005-5dc01969bdd2",
   "metadata": {},
   "outputs": [],
   "source": [
    "get_suit = lambda card: card[-1] # a última letra é o naipe"
   ]
  },
  {
   "cell_type": "code",
   "execution_count": 16,
   "id": "25ad03fd-3d99-4128-b371-f0de34e75455",
   "metadata": {},
   "outputs": [],
   "source": [
    "df = pd.DataFrame({'category': ['a', 'a', 'a', 'a',\n",
    "                                ......: 'b', 'b', 'b', 'b'],\n",
    "                                ......: 'data': np.random.randn(8),\n",
    "                                ......: 'weights': np.random.rand(8)})"
   ]
  },
  {
   "cell_type": "code",
   "execution_count": 17,
   "id": "54b66fdf-e8a7-441b-97ca-cf205c5e971e",
   "metadata": {},
   "outputs": [
    {
     "data": {
      "text/html": [
       "<div>\n",
       "<style scoped>\n",
       "    .dataframe tbody tr th:only-of-type {\n",
       "        vertical-align: middle;\n",
       "    }\n",
       "\n",
       "    .dataframe tbody tr th {\n",
       "        vertical-align: top;\n",
       "    }\n",
       "\n",
       "    .dataframe thead th {\n",
       "        text-align: right;\n",
       "    }\n",
       "</style>\n",
       "<table border=\"1\" class=\"dataframe\">\n",
       "  <thead>\n",
       "    <tr style=\"text-align: right;\">\n",
       "      <th></th>\n",
       "      <th>category</th>\n",
       "      <th>data</th>\n",
       "      <th>weights</th>\n",
       "    </tr>\n",
       "  </thead>\n",
       "  <tbody>\n",
       "    <tr>\n",
       "      <th>0</th>\n",
       "      <td>a</td>\n",
       "      <td>0.273183</td>\n",
       "      <td>0.192564</td>\n",
       "    </tr>\n",
       "    <tr>\n",
       "      <th>1</th>\n",
       "      <td>a</td>\n",
       "      <td>0.779319</td>\n",
       "      <td>0.176639</td>\n",
       "    </tr>\n",
       "    <tr>\n",
       "      <th>2</th>\n",
       "      <td>a</td>\n",
       "      <td>-2.247971</td>\n",
       "      <td>0.362914</td>\n",
       "    </tr>\n",
       "    <tr>\n",
       "      <th>3</th>\n",
       "      <td>a</td>\n",
       "      <td>-0.358678</td>\n",
       "      <td>0.987195</td>\n",
       "    </tr>\n",
       "    <tr>\n",
       "      <th>4</th>\n",
       "      <td>b</td>\n",
       "      <td>0.949865</td>\n",
       "      <td>0.769495</td>\n",
       "    </tr>\n",
       "    <tr>\n",
       "      <th>5</th>\n",
       "      <td>b</td>\n",
       "      <td>0.274580</td>\n",
       "      <td>0.278540</td>\n",
       "    </tr>\n",
       "    <tr>\n",
       "      <th>6</th>\n",
       "      <td>b</td>\n",
       "      <td>-0.500506</td>\n",
       "      <td>0.542568</td>\n",
       "    </tr>\n",
       "    <tr>\n",
       "      <th>7</th>\n",
       "      <td>b</td>\n",
       "      <td>0.028419</td>\n",
       "      <td>0.566997</td>\n",
       "    </tr>\n",
       "  </tbody>\n",
       "</table>\n",
       "</div>"
      ],
      "text/plain": [
       "  category      data   weights\n",
       "0        a  0.273183  0.192564\n",
       "1        a  0.779319  0.176639\n",
       "2        a -2.247971  0.362914\n",
       "3        a -0.358678  0.987195\n",
       "4        b  0.949865  0.769495\n",
       "5        b  0.274580  0.278540\n",
       "6        b -0.500506  0.542568\n",
       "7        b  0.028419  0.566997"
      ]
     },
     "execution_count": 17,
     "metadata": {},
     "output_type": "execute_result"
    }
   ],
   "source": [
    "df"
   ]
  },
  {
   "cell_type": "code",
   "execution_count": 18,
   "id": "c4e145bf-e950-41de-8197-5cb89fe65a81",
   "metadata": {},
   "outputs": [],
   "source": [
    "grouped = df.groupby('category')"
   ]
  },
  {
   "cell_type": "code",
   "execution_count": 19,
   "id": "95644887-c402-4080-aebc-ac587a9dd7e5",
   "metadata": {},
   "outputs": [],
   "source": [
    "get_wavg = lambda g: np.average(g['data'], weights=g['weights'])"
   ]
  },
  {
   "cell_type": "code",
   "execution_count": 20,
   "id": "4958a40f-210f-4203-a8ff-5fb90c78268d",
   "metadata": {},
   "outputs": [
    {
     "name": "stderr",
     "output_type": "stream",
     "text": [      
     ]
    },
    {
     "data": {
      "text/plain": [
       "category\n",
       "a   -0.569787\n",
       "b    0.255818\n",
       "dtype: float64"
      ]
     },
     "execution_count": 20,
     "metadata": {},
     "output_type": "execute_result"
    }
   ],
   "source": [
    "grouped.apply(get_wavg)"
   ]
  },
  {
   "cell_type": "code",
   "execution_count": 22,
   "id": "3535fc1d-3294-4d57-a819-2a3b909e5502",
   "metadata": {},
   "outputs": [],
   "source": [
    "get_year = lambda x: x.year"
   ]
  }
 ],
 "metadata": {
  "kernelspec": {
   "display_name": "Python 3 (ipykernel)",
   "language": "python",
   "name": "python3"
  },
  "language_info": {
   "codemirror_mode": {
    "name": "ipython",
    "version": 3
   },
   "file_extension": ".py",
   "mimetype": "text/x-python",
   "name": "python",
   "nbconvert_exporter": "python",
   "pygments_lexer": "ipython3",
   "version": "3.12.1"
  }
 },
 "nbformat": 4,
 "nbformat_minor": 5
}
