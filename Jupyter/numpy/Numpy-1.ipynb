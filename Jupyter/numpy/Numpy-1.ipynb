{
 "cells": [
  {
   "cell_type": "code",
   "execution_count": 1,
   "id": "6ebabc0f-1643-4ac7-83ac-f82a29360fca",
   "metadata": {},
   "outputs": [],
   "source": [
    "import numpy as np"
   ]
  },
  {
   "cell_type": "code",
   "execution_count": 2,
   "id": "20b7ea2c-b930-493c-8a25-c765d492de36",
   "metadata": {},
   "outputs": [],
   "source": [
    "arr = np.array([1,2,3,4,5])"
   ]
  },
  {
   "cell_type": "code",
   "execution_count": 3,
   "id": "cbbd8ca8-7121-4b4e-8268-b2a2f475164b",
   "metadata": {},
   "outputs": [
    {
     "data": {
      "text/plain": [
       "dtype('int64')"
      ]
     },
     "execution_count": 3,
     "metadata": {},
     "output_type": "execute_result"
    }
   ],
   "source": [
    "arr.dtype"
   ]
  },
  {
   "cell_type": "code",
   "execution_count": 4,
   "id": "79c9295c-e264-44a8-bafa-a96606ded281",
   "metadata": {},
   "outputs": [],
   "source": [
    "float_arr = arr.astype(np.float64)"
   ]
  },
  {
   "cell_type": "code",
   "execution_count": 5,
   "id": "1744070c-8817-4ded-9ee7-a78a509763ed",
   "metadata": {},
   "outputs": [
    {
     "data": {
      "text/plain": [
       "dtype('float64')"
      ]
     },
     "execution_count": 5,
     "metadata": {},
     "output_type": "execute_result"
    }
   ],
   "source": [
    "float_arr.dtype"
   ]
  },
  {
   "cell_type": "code",
   "execution_count": 7,
   "id": "b25f9c48-4740-4a72-9b80-228e065b78d1",
   "metadata": {},
   "outputs": [],
   "source": [
    "arr = np.array([3.7,-1.2,-2.6,0.5,12.9,10.1])"
   ]
  },
  {
   "cell_type": "code",
   "execution_count": 8,
   "id": "2b5c1848-8115-4640-a21b-973a58d43de9",
   "metadata": {},
   "outputs": [
    {
     "data": {
      "text/plain": [
       "array([ 3.7, -1.2, -2.6,  0.5, 12.9, 10.1])"
      ]
     },
     "execution_count": 8,
     "metadata": {},
     "output_type": "execute_result"
    }
   ],
   "source": [
    "arr"
   ]
  },
  {
   "cell_type": "code",
   "execution_count": 13,
   "id": "cb84dbba-45f2-48e7-9ba5-7a2080024495",
   "metadata": {},
   "outputs": [
    {
     "data": {
      "text/plain": [
       "array([ 3, -1, -2,  0, 12, 10], dtype=int32)"
      ]
     },
     "execution_count": 13,
     "metadata": {},
     "output_type": "execute_result"
    }
   ],
   "source": [
    "arr.astype(np.int32)"
   ]
  },
  {
   "cell_type": "code",
   "execution_count": 14,
   "id": "6596d03e-e1fb-42db-8b6c-7ee4d66d5625",
   "metadata": {},
   "outputs": [],
   "source": [
    "numeric_string = np.array(['1.25','-9.6','42'],dtype=np.string_)"
   ]
  },
  {
   "cell_type": "code",
   "execution_count": 15,
   "id": "c4338fa0-7014-4592-a8b4-8c8c3a925066",
   "metadata": {},
   "outputs": [
    {
     "data": {
      "text/plain": [
       "array([ 1.25, -9.6 , 42.  ])"
      ]
     },
     "execution_count": 15,
     "metadata": {},
     "output_type": "execute_result"
    }
   ],
   "source": [
    "numeric_string.astype(float)"
   ]
  },
  {
   "cell_type": "code",
   "execution_count": 16,
   "id": "8779ba00-32b2-4a2e-9fd3-547585ac7f2f",
   "metadata": {},
   "outputs": [],
   "source": [
    "int_array = np.arange(10)"
   ]
  },
  {
   "cell_type": "code",
   "execution_count": 17,
   "id": "4c2f087b-5b89-47ac-9d39-07980b2342c1",
   "metadata": {},
   "outputs": [],
   "source": [
    "calibers = np.array([.22, .270, .357, .380, .44, .50], dtype=np.float64)"
   ]
  },
  {
   "cell_type": "code",
   "execution_count": 18,
   "id": "4300aeeb-b046-4702-b2fa-e545fc311ab4",
   "metadata": {},
   "outputs": [
    {
     "data": {
      "text/plain": [
       "array([0., 1., 2., 3., 4., 5., 6., 7., 8., 9.])"
      ]
     },
     "execution_count": 18,
     "metadata": {},
     "output_type": "execute_result"
    }
   ],
   "source": [
    "int_array.astype(calibers.dtype)"
   ]
  },
  {
   "cell_type": "code",
   "execution_count": 19,
   "id": "e5391151-9594-44ad-bea0-eb0450a42649",
   "metadata": {},
   "outputs": [],
   "source": [
    "empty_uint32 = np.empty(8, dtype='u4')"
   ]
  },
  {
   "cell_type": "code",
   "execution_count": 20,
   "id": "45db622b-8c85-49a3-9dfe-18646d9794b2",
   "metadata": {},
   "outputs": [
    {
     "data": {
      "text/plain": [
       "array([1533576527,      21985,          0,          0,   86559184,\n",
       "            21988,   86559104,      21988], dtype=uint32)"
      ]
     },
     "execution_count": 20,
     "metadata": {},
     "output_type": "execute_result"
    }
   ],
   "source": [
    "empty_uint32"
   ]
  }
 ],
 "metadata": {
  "kernelspec": {
   "display_name": "Python 3 (ipykernel)",
   "language": "python",
   "name": "python3"
  },
  "language_info": {
   "codemirror_mode": {
    "name": "ipython",
    "version": 3
   },
   "file_extension": ".py",
   "mimetype": "text/x-python",
   "name": "python",
   "nbconvert_exporter": "python",
   "pygments_lexer": "ipython3",
   "version": "3.12.2"
  }
 },
 "nbformat": 4,
 "nbformat_minor": 5
}
