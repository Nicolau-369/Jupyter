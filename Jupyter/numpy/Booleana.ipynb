{
 "cells": [
  {
   "cell_type": "code",
   "execution_count": 1,
   "id": "18ca2e75-950a-4015-9275-cdf36bcaf32f",
   "metadata": {},
   "outputs": [],
   "source": [
    "import numpy as np"
   ]
  },
  {
   "cell_type": "code",
   "execution_count": 16,
   "id": "5a701e36-8686-4c1f-bc22-9c47f59c8969",
   "metadata": {},
   "outputs": [],
   "source": [
    "names = np.array(['Nick', 'Malik', 'Kletus', 'Mag', 'Andy', 'Caly', 'Mari'])"
   ]
  },
  {
   "cell_type": "code",
   "execution_count": 17,
   "id": "e9f68a96-cf45-4ae1-b249-47df2a638465",
   "metadata": {},
   "outputs": [],
   "source": [
    "data = np.random.randn(7,4)"
   ]
  },
  {
   "cell_type": "code",
   "execution_count": 18,
   "id": "c549584c-8f96-4a54-ab33-b8ced4c59efd",
   "metadata": {},
   "outputs": [
    {
     "data": {
      "text/plain": [
       "array(['Nick', 'Malik', 'Kletus', 'Mag', 'Andy', 'Caly', 'Mari'],\n",
       "      dtype='<U6')"
      ]
     },
     "execution_count": 18,
     "metadata": {},
     "output_type": "execute_result"
    }
   ],
   "source": [
    "names"
   ]
  },
  {
   "cell_type": "code",
   "execution_count": 19,
   "id": "9279bae6-7eed-4036-803f-6d9497aff9af",
   "metadata": {},
   "outputs": [
    {
     "data": {
      "text/plain": [
       "array([[ 0.41486769, -0.94508591,  0.39803807,  0.14243697],\n",
       "       [-0.10041053, -0.17499309,  0.94684092,  0.6713132 ],\n",
       "       [-0.58718567, -0.40659448, -0.33371095,  0.20573652],\n",
       "       [ 0.48274299, -0.0617636 ,  0.19273515,  0.18600944],\n",
       "       [-0.32281831, -0.75628462,  0.56957624, -0.9181326 ],\n",
       "       [ 1.30612659,  0.24646903, -0.56939606, -0.4495123 ],\n",
       "       [-2.38527575,  0.11651968, -1.51166642, -0.78805655]])"
      ]
     },
     "execution_count": 19,
     "metadata": {},
     "output_type": "execute_result"
    }
   ],
   "source": [
    "data"
   ]
  },
  {
   "cell_type": "code",
   "execution_count": 20,
   "id": "108999ae-78f8-4196-a5dc-7f47acaebf29",
   "metadata": {},
   "outputs": [
    {
     "data": {
      "text/plain": [
       "array([ True, False, False, False, False, False, False])"
      ]
     },
     "execution_count": 20,
     "metadata": {},
     "output_type": "execute_result"
    }
   ],
   "source": [
    "names == 'Nick'"
   ]
  },
  {
   "cell_type": "code",
   "execution_count": 21,
   "id": "82c79f2c-0768-4b53-a386-fd5973b6784b",
   "metadata": {},
   "outputs": [
    {
     "data": {
      "text/plain": [
       "array([[ 0.41486769, -0.94508591,  0.39803807,  0.14243697]])"
      ]
     },
     "execution_count": 21,
     "metadata": {},
     "output_type": "execute_result"
    }
   ],
   "source": [
    "data[names == 'Nick']"
   ]
  },
  {
   "cell_type": "code",
   "execution_count": 22,
   "id": "96c73715-0e0d-4169-9c96-a18221b04620",
   "metadata": {},
   "outputs": [
    {
     "data": {
      "text/plain": [
       "array([[0.39803807, 0.14243697]])"
      ]
     },
     "execution_count": 22,
     "metadata": {},
     "output_type": "execute_result"
    }
   ],
   "source": [
    "data[names == 'Nick',2:]"
   ]
  },
  {
   "cell_type": "code",
   "execution_count": 23,
   "id": "7dc8f4db-9def-4b39-82c5-901da2839ff5",
   "metadata": {},
   "outputs": [
    {
     "data": {
      "text/plain": [
       "array([0.14243697])"
      ]
     },
     "execution_count": 23,
     "metadata": {},
     "output_type": "execute_result"
    }
   ],
   "source": [
    "data[names == 'Nick', 3]"
   ]
  },
  {
   "cell_type": "code",
   "execution_count": 24,
   "id": "7c2b7e05-a5fd-4f77-85d4-ba6cbc4377b0",
   "metadata": {},
   "outputs": [
    {
     "data": {
      "text/plain": [
       "array([False,  True,  True,  True,  True,  True,  True])"
      ]
     },
     "execution_count": 24,
     "metadata": {},
     "output_type": "execute_result"
    }
   ],
   "source": [
    "names !='Nick'"
   ]
  },
  {
   "cell_type": "code",
   "execution_count": 25,
   "id": "2e036ae6-3b9b-492a-8ada-1b33bce32886",
   "metadata": {},
   "outputs": [
    {
     "data": {
      "text/plain": [
       "array([[-0.10041053, -0.17499309,  0.94684092,  0.6713132 ],\n",
       "       [-0.58718567, -0.40659448, -0.33371095,  0.20573652],\n",
       "       [ 0.48274299, -0.0617636 ,  0.19273515,  0.18600944],\n",
       "       [-0.32281831, -0.75628462,  0.56957624, -0.9181326 ],\n",
       "       [ 1.30612659,  0.24646903, -0.56939606, -0.4495123 ],\n",
       "       [-2.38527575,  0.11651968, -1.51166642, -0.78805655]])"
      ]
     },
     "execution_count": 25,
     "metadata": {},
     "output_type": "execute_result"
    }
   ],
   "source": [
    "data[~(names == 'Nick')]"
   ]
  },
  {
   "cell_type": "code",
   "execution_count": 26,
   "id": "ab826c6b-2265-4319-8480-cf165ec6d0d5",
   "metadata": {},
   "outputs": [],
   "source": [
    "cond = names == 'Nick'"
   ]
  },
  {
   "cell_type": "code",
   "execution_count": 27,
   "id": "d06dc78a-38f3-4e6b-b047-6ed895c66781",
   "metadata": {},
   "outputs": [
    {
     "data": {
      "text/plain": [
       "array([[-0.10041053, -0.17499309,  0.94684092,  0.6713132 ],\n",
       "       [-0.58718567, -0.40659448, -0.33371095,  0.20573652],\n",
       "       [ 0.48274299, -0.0617636 ,  0.19273515,  0.18600944],\n",
       "       [-0.32281831, -0.75628462,  0.56957624, -0.9181326 ],\n",
       "       [ 1.30612659,  0.24646903, -0.56939606, -0.4495123 ],\n",
       "       [-2.38527575,  0.11651968, -1.51166642, -0.78805655]])"
      ]
     },
     "execution_count": 27,
     "metadata": {},
     "output_type": "execute_result"
    }
   ],
   "source": [
    "data[~cond]"
   ]
  },
  {
   "cell_type": "code",
   "execution_count": 28,
   "id": "ef3b2cab-470e-4bca-8c58-61dc512bb827",
   "metadata": {},
   "outputs": [],
   "source": [
    "mask = (names == 'Nick') | (names == 'Malik')"
   ]
  },
  {
   "cell_type": "code",
   "execution_count": 29,
   "id": "a79fe6dd-c6a5-4b13-896a-44b2053d9aff",
   "metadata": {},
   "outputs": [
    {
     "data": {
      "text/plain": [
       "array([ True,  True, False, False, False, False, False])"
      ]
     },
     "execution_count": 29,
     "metadata": {},
     "output_type": "execute_result"
    }
   ],
   "source": [
    "mask"
   ]
  },
  {
   "cell_type": "code",
   "execution_count": 30,
   "id": "733aa9e3-5ec9-448f-bb96-a2322de7aab4",
   "metadata": {},
   "outputs": [
    {
     "data": {
      "text/plain": [
       "array([[ 0.41486769, -0.94508591,  0.39803807,  0.14243697],\n",
       "       [-0.10041053, -0.17499309,  0.94684092,  0.6713132 ]])"
      ]
     },
     "execution_count": 30,
     "metadata": {},
     "output_type": "execute_result"
    }
   ],
   "source": [
    "data[mask]"
   ]
  },
  {
   "cell_type": "code",
   "execution_count": 31,
   "id": "4cd8b460-1c59-4be8-a96b-a394ae52c6e0",
   "metadata": {},
   "outputs": [],
   "source": [
    "data[data < 0] = 0"
   ]
  },
  {
   "cell_type": "code",
   "execution_count": 32,
   "id": "bbe9b496-91d3-4612-ac3c-2d0df8662f09",
   "metadata": {},
   "outputs": [
    {
     "data": {
      "text/plain": [
       "array([[0.41486769, 0.        , 0.39803807, 0.14243697],\n",
       "       [0.        , 0.        , 0.94684092, 0.6713132 ],\n",
       "       [0.        , 0.        , 0.        , 0.20573652],\n",
       "       [0.48274299, 0.        , 0.19273515, 0.18600944],\n",
       "       [0.        , 0.        , 0.56957624, 0.        ],\n",
       "       [1.30612659, 0.24646903, 0.        , 0.        ],\n",
       "       [0.        , 0.11651968, 0.        , 0.        ]])"
      ]
     },
     "execution_count": 32,
     "metadata": {},
     "output_type": "execute_result"
    }
   ],
   "source": [
    "data"
   ]
  },
  {
   "cell_type": "code",
   "execution_count": 33,
   "id": "67cbd5bb-d770-45a5-b3e6-1cacaac9848b",
   "metadata": {},
   "outputs": [],
   "source": [
    "data[names != 'Malik'] = 7"
   ]
  },
  {
   "cell_type": "code",
   "execution_count": 34,
   "id": "e8360c3e-fa01-4763-bc5d-c96ad1a33a6b",
   "metadata": {},
   "outputs": [
    {
     "data": {
      "text/plain": [
       "array([[7.        , 7.        , 7.        , 7.        ],\n",
       "       [0.        , 0.        , 0.94684092, 0.6713132 ],\n",
       "       [7.        , 7.        , 7.        , 7.        ],\n",
       "       [7.        , 7.        , 7.        , 7.        ],\n",
       "       [7.        , 7.        , 7.        , 7.        ],\n",
       "       [7.        , 7.        , 7.        , 7.        ],\n",
       "       [7.        , 7.        , 7.        , 7.        ]])"
      ]
     },
     "execution_count": 34,
     "metadata": {},
     "output_type": "execute_result"
    }
   ],
   "source": [
    "data"
   ]
  },
  {
   "cell_type": "code",
   "execution_count": 35,
   "id": "b9cec1b4-3666-4226-a1f8-45836d131a14",
   "metadata": {},
   "outputs": [],
   "source": [
    "arr = np.empty((8,4))"
   ]
  },
  {
   "cell_type": "code",
   "execution_count": 36,
   "id": "e3330209-5047-490c-bc22-90272bfa84f2",
   "metadata": {},
   "outputs": [],
   "source": [
    "for i in range(8):\n",
    "    arr[i] = i"
   ]
  },
  {
   "cell_type": "code",
   "execution_count": 37,
   "id": "a5126bbe-a87e-4ac6-8cb6-aedfeaf57ffc",
   "metadata": {},
   "outputs": [
    {
     "data": {
      "text/plain": [
       "array([[0., 0., 0., 0.],\n",
       "       [1., 1., 1., 1.],\n",
       "       [2., 2., 2., 2.],\n",
       "       [3., 3., 3., 3.],\n",
       "       [4., 4., 4., 4.],\n",
       "       [5., 5., 5., 5.],\n",
       "       [6., 6., 6., 6.],\n",
       "       [7., 7., 7., 7.]])"
      ]
     },
     "execution_count": 37,
     "metadata": {},
     "output_type": "execute_result"
    }
   ],
   "source": [
    "arr"
   ]
  },
  {
   "cell_type": "code",
   "execution_count": 38,
   "id": "18bb8901-d5cd-4438-b7f1-2fd30b1388aa",
   "metadata": {},
   "outputs": [
    {
     "data": {
      "text/plain": [
       "array([[4., 4., 4., 4.],\n",
       "       [3., 3., 3., 3.],\n",
       "       [0., 0., 0., 0.],\n",
       "       [6., 6., 6., 6.]])"
      ]
     },
     "execution_count": 38,
     "metadata": {},
     "output_type": "execute_result"
    }
   ],
   "source": [
    "arr[[4,3,0,6]]"
   ]
  },
  {
   "cell_type": "code",
   "execution_count": 39,
   "id": "07dd4391-a506-4970-974f-a9a608884ba2",
   "metadata": {},
   "outputs": [
    {
     "data": {
      "text/plain": [
       "array([[5., 5., 5., 5.],\n",
       "       [3., 3., 3., 3.],\n",
       "       [1., 1., 1., 1.]])"
      ]
     },
     "execution_count": 39,
     "metadata": {},
     "output_type": "execute_result"
    }
   ],
   "source": [
    "arr[[-3,-5,-7]]"
   ]
  },
  {
   "cell_type": "code",
   "execution_count": 40,
   "id": "83dcd381-68bb-470e-bad4-7f94cc893a28",
   "metadata": {},
   "outputs": [],
   "source": [
    "arr = np.arange(32).reshape((8,4))"
   ]
  },
  {
   "cell_type": "code",
   "execution_count": 41,
   "id": "160fa3ef-ed7b-4d55-b791-8157365e863f",
   "metadata": {},
   "outputs": [
    {
     "data": {
      "text/plain": [
       "array([[ 0,  1,  2,  3],\n",
       "       [ 4,  5,  6,  7],\n",
       "       [ 8,  9, 10, 11],\n",
       "       [12, 13, 14, 15],\n",
       "       [16, 17, 18, 19],\n",
       "       [20, 21, 22, 23],\n",
       "       [24, 25, 26, 27],\n",
       "       [28, 29, 30, 31]])"
      ]
     },
     "execution_count": 41,
     "metadata": {},
     "output_type": "execute_result"
    }
   ],
   "source": [
    "arr"
   ]
  },
  {
   "cell_type": "code",
   "execution_count": 42,
   "id": "90c756a7-d70b-42b3-9655-00f60925a30d",
   "metadata": {},
   "outputs": [
    {
     "data": {
      "text/plain": [
       "array([ 4, 23, 29, 10])"
      ]
     },
     "execution_count": 42,
     "metadata": {},
     "output_type": "execute_result"
    }
   ],
   "source": [
    "arr[[1,5,7,2],[0,3,1,2]]"
   ]
  },
  {
   "cell_type": "code",
   "execution_count": 43,
   "id": "82150e0f-67d3-4c40-ac00-bc7a7d93d8c2",
   "metadata": {},
   "outputs": [
    {
     "data": {
      "text/plain": [
       "array([[ 4,  7,  5,  6],\n",
       "       [20, 23, 21, 22],\n",
       "       [28, 31, 29, 30],\n",
       "       [ 8, 11,  9, 10]])"
      ]
     },
     "execution_count": 43,
     "metadata": {},
     "output_type": "execute_result"
    }
   ],
   "source": [
    "arr[[1,5,7,2]][:,[0,3,1,2]]"
   ]
  },
  {
   "cell_type": "code",
   "execution_count": 45,
   "id": "dac217e4-ea7b-490f-a7b6-813f11eda56d",
   "metadata": {},
   "outputs": [],
   "source": [
    "arr = np.arange(15).reshape((3,5))"
   ]
  },
  {
   "cell_type": "code",
   "execution_count": 46,
   "id": "51908273-92e5-4d00-a7bf-8b7c57732fcb",
   "metadata": {},
   "outputs": [
    {
     "data": {
      "text/plain": [
       "array([[ 0,  1,  2,  3,  4],\n",
       "       [ 5,  6,  7,  8,  9],\n",
       "       [10, 11, 12, 13, 14]])"
      ]
     },
     "execution_count": 46,
     "metadata": {},
     "output_type": "execute_result"
    }
   ],
   "source": [
    "arr"
   ]
  },
  {
   "cell_type": "code",
   "execution_count": 47,
   "id": "92d242c5-4674-4561-bd1b-daa2208acb5a",
   "metadata": {},
   "outputs": [
    {
     "data": {
      "text/plain": [
       "array([[ 0,  5, 10],\n",
       "       [ 1,  6, 11],\n",
       "       [ 2,  7, 12],\n",
       "       [ 3,  8, 13],\n",
       "       [ 4,  9, 14]])"
      ]
     },
     "execution_count": 47,
     "metadata": {},
     "output_type": "execute_result"
    }
   ],
   "source": [
    "arr.T"
   ]
  },
  {
   "cell_type": "code",
   "execution_count": 48,
   "id": "23117192-6e07-4afc-958e-4cd8d4ce5445",
   "metadata": {},
   "outputs": [],
   "source": [
    "arr = np.random.randn(6,3)"
   ]
  },
  {
   "cell_type": "code",
   "execution_count": 49,
   "id": "b2334572-0cae-4a65-919f-97327a3ee248",
   "metadata": {},
   "outputs": [
    {
     "data": {
      "text/plain": [
       "array([[ 2.70389151e-01, -8.71720673e-01, -4.97009303e-01],\n",
       "       [ 2.77067415e-01, -3.88735534e-01,  9.95977387e-01],\n",
       "       [-1.77034793e-04, -3.37194850e-01, -9.58913136e-02],\n",
       "       [ 1.48018083e+00,  2.82080388e+00,  6.40193051e-01],\n",
       "       [ 8.99614808e-01,  7.21006123e-01,  4.36771123e-01],\n",
       "       [ 3.69644515e-01,  3.87742124e-01,  5.05402048e-01]])"
      ]
     },
     "execution_count": 49,
     "metadata": {},
     "output_type": "execute_result"
    }
   ],
   "source": [
    "arr"
   ]
  },
  {
   "cell_type": "code",
   "execution_count": 50,
   "id": "fdbf5088-62fd-4d61-aee3-30f68faf141c",
   "metadata": {},
   "outputs": [
    {
     "data": {
      "text/plain": [
       "array([[3.28675584, 4.6239043 , 1.66893028],\n",
       "       [4.6239043 , 9.65184092, 2.3951549 ],\n",
       "       [1.66893028, 2.3951549 , 2.10423173]])"
      ]
     },
     "execution_count": 50,
     "metadata": {},
     "output_type": "execute_result"
    }
   ],
   "source": [
    "np.dot(arr.T,arr)"
   ]
  },
  {
   "cell_type": "code",
   "execution_count": 51,
   "id": "160fb763-2b39-4da3-99bc-1220ed18f310",
   "metadata": {},
   "outputs": [],
   "source": [
    "arr = np.arange(16).reshape((2,2,4))"
   ]
  },
  {
   "cell_type": "code",
   "execution_count": 52,
   "id": "61d57e1c-ba46-46ae-a86b-aa6e6c84d323",
   "metadata": {},
   "outputs": [
    {
     "data": {
      "text/plain": [
       "array([[[ 0,  1,  2,  3],\n",
       "        [ 4,  5,  6,  7]],\n",
       "\n",
       "       [[ 8,  9, 10, 11],\n",
       "        [12, 13, 14, 15]]])"
      ]
     },
     "execution_count": 52,
     "metadata": {},
     "output_type": "execute_result"
    }
   ],
   "source": [
    "arr"
   ]
  },
  {
   "cell_type": "code",
   "execution_count": 53,
   "id": "c433d084-1a7c-4d9d-b6a4-2e98d07172fd",
   "metadata": {},
   "outputs": [
    {
     "data": {
      "text/plain": [
       "array([[[ 0,  1,  2,  3],\n",
       "        [ 8,  9, 10, 11]],\n",
       "\n",
       "       [[ 4,  5,  6,  7],\n",
       "        [12, 13, 14, 15]]])"
      ]
     },
     "execution_count": 53,
     "metadata": {},
     "output_type": "execute_result"
    }
   ],
   "source": [
    "arr.transpose((1,0,2))"
   ]
  },
  {
   "cell_type": "code",
   "execution_count": 54,
   "id": "ae26a1af-156e-4f54-b2b8-671e38e0b9dd",
   "metadata": {},
   "outputs": [
    {
     "data": {
      "text/plain": [
       "array([[[ 0,  1,  2,  3],\n",
       "        [ 4,  5,  6,  7]],\n",
       "\n",
       "       [[ 8,  9, 10, 11],\n",
       "        [12, 13, 14, 15]]])"
      ]
     },
     "execution_count": 54,
     "metadata": {},
     "output_type": "execute_result"
    }
   ],
   "source": [
    "arr"
   ]
  },
  {
   "cell_type": "code",
   "execution_count": 55,
   "id": "74ba9542-38b0-4157-affa-55126cfe7015",
   "metadata": {},
   "outputs": [
    {
     "data": {
      "text/plain": [
       "array([[[ 0,  4],\n",
       "        [ 1,  5],\n",
       "        [ 2,  6],\n",
       "        [ 3,  7]],\n",
       "\n",
       "       [[ 8, 12],\n",
       "        [ 9, 13],\n",
       "        [10, 14],\n",
       "        [11, 15]]])"
      ]
     },
     "execution_count": 55,
     "metadata": {},
     "output_type": "execute_result"
    }
   ],
   "source": [
    "arr.swapaxes(1,2)"
   ]
  }
 ],
 "metadata": {
  "kernelspec": {
   "display_name": "Python 3 (ipykernel)",
   "language": "python",
   "name": "python3"
  },
  "language_info": {
   "codemirror_mode": {
    "name": "ipython",
    "version": 3
   },
   "file_extension": ".py",
   "mimetype": "text/x-python",
   "name": "python",
   "nbconvert_exporter": "python",
   "pygments_lexer": "ipython3",
   "version": "3.12.2"
  }
 },
 "nbformat": 4,
 "nbformat_minor": 5
}
