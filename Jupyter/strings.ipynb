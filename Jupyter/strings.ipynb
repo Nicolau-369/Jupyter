{
 "cells": [
  {
   "cell_type": "code",
   "execution_count": 1,
   "id": "8b7b398f-6f0e-4eae-beed-7c29168447cd",
   "metadata": {},
   "outputs": [],
   "source": [
    "import pandas as pd\n",
    "import numpy as np"
   ]
  },
  {
   "cell_type": "code",
   "execution_count": 2,
   "id": "cb245115-fa61-46e8-986a-7fc34a8c4d93",
   "metadata": {},
   "outputs": [],
   "source": [
    "val = 'a,b,guido'"
   ]
  },
  {
   "cell_type": "code",
   "execution_count": 3,
   "id": "9da74ff2-c89f-4653-9b27-169ced13c239",
   "metadata": {},
   "outputs": [
    {
     "data": {
      "text/plain": [
       "['a', 'b', 'guido']"
      ]
     },
     "execution_count": 3,
     "metadata": {},
     "output_type": "execute_result"
    }
   ],
   "source": [
    "val.split(',')"
   ]
  },
  {
   "cell_type": "code",
   "execution_count": 4,
   "id": "2e4c7192-f4fd-47a0-b018-a2bc0b66b6db",
   "metadata": {},
   "outputs": [],
   "source": [
    "pieces = [x.strip() for x in val.split(',')]"
   ]
  },
  {
   "cell_type": "code",
   "execution_count": 5,
   "id": "efeac3af-0fcc-4a4f-8865-39c60a19210b",
   "metadata": {},
   "outputs": [
    {
     "data": {
      "text/plain": [
       "['a', 'b', 'guido']"
      ]
     },
     "execution_count": 5,
     "metadata": {},
     "output_type": "execute_result"
    }
   ],
   "source": [
    "pieces"
   ]
  },
  {
   "cell_type": "code",
   "execution_count": 7,
   "id": "7a917b12-64f8-4540-bf2d-ab11eaa8bdc0",
   "metadata": {},
   "outputs": [],
   "source": [
    "first,second,third = pieces"
   ]
  },
  {
   "cell_type": "code",
   "execution_count": 8,
   "id": "21463d7b-14f2-41b9-844c-d4964215ef22",
   "metadata": {},
   "outputs": [
    {
     "data": {
      "text/plain": [
       "'a::b::guido'"
      ]
     },
     "execution_count": 8,
     "metadata": {},
     "output_type": "execute_result"
    }
   ],
   "source": [
    "first + '::' + second + '::' + third"
   ]
  },
  {
   "cell_type": "code",
   "execution_count": 9,
   "id": "9f760997-fc58-45d3-b4a8-7c07bdab8985",
   "metadata": {},
   "outputs": [
    {
     "data": {
      "text/plain": [
       "'a::b::guido'"
      ]
     },
     "execution_count": 9,
     "metadata": {},
     "output_type": "execute_result"
    }
   ],
   "source": [
    "'::'.join(pieces)"
   ]
  },
  {
   "cell_type": "code",
   "execution_count": 10,
   "id": "3e653de7-acba-4873-bd8b-166b1d211d55",
   "metadata": {},
   "outputs": [
    {
     "data": {
      "text/plain": [
       "True"
      ]
     },
     "execution_count": 10,
     "metadata": {},
     "output_type": "execute_result"
    }
   ],
   "source": [
    "'guido' in val"
   ]
  },
  {
   "cell_type": "code",
   "execution_count": 11,
   "id": "55b32b4a-c4c9-4c90-8fd4-260a6da80786",
   "metadata": {},
   "outputs": [
    {
     "data": {
      "text/plain": [
       "1"
      ]
     },
     "execution_count": 11,
     "metadata": {},
     "output_type": "execute_result"
    }
   ],
   "source": [
    "val.index(',')"
   ]
  },
  {
   "cell_type": "code",
   "execution_count": 13,
   "id": "66b28704-4e5b-405c-98d6-dc21edd91b2f",
   "metadata": {},
   "outputs": [
    {
     "data": {
      "text/plain": [
       "1"
      ]
     },
     "execution_count": 13,
     "metadata": {},
     "output_type": "execute_result"
    }
   ],
   "source": [
    "val.find(',')"
   ]
  },
  {
   "cell_type": "code",
   "execution_count": 16,
   "id": "1fb33eb2-080a-4edb-a256-6436202522bd",
   "metadata": {},
   "outputs": [
    {
     "data": {
      "text/plain": [
       "2"
      ]
     },
     "execution_count": 16,
     "metadata": {},
     "output_type": "execute_result"
    }
   ],
   "source": [
    "val.count(',')"
   ]
  },
  {
   "cell_type": "code",
   "execution_count": 17,
   "id": "7d07110e-32a3-44fc-8873-efca5eaf4851",
   "metadata": {},
   "outputs": [
    {
     "data": {
      "text/plain": [
       "'a::b::guido'"
      ]
     },
     "execution_count": 17,
     "metadata": {},
     "output_type": "execute_result"
    }
   ],
   "source": [
    "val.replace(',','::')"
   ]
  },
  {
   "cell_type": "code",
   "execution_count": 20,
   "id": "b4d2651e-2ee8-4a45-ac78-ddc49557f532",
   "metadata": {},
   "outputs": [
    {
     "data": {
      "text/plain": [
       "'abguido'"
      ]
     },
     "execution_count": 20,
     "metadata": {},
     "output_type": "execute_result"
    }
   ],
   "source": [
    "val.replace(',' ,'')"
   ]
  },
  {
   "cell_type": "code",
   "execution_count": 68,
   "id": "b3761735-4564-4cc3-a0a8-af53804cd008",
   "metadata": {},
   "outputs": [],
   "source": [
    "import re"
   ]
  },
  {
   "cell_type": "code",
   "execution_count": 69,
   "id": "99b76021-6b7c-4e2b-91e0-36d938d42913",
   "metadata": {},
   "outputs": [],
   "source": [
    "text = \"foo bar\\t baz \\tqux\""
   ]
  },
  {
   "cell_type": "code",
   "execution_count": 70,
   "id": "ce7160fd-8bc1-4f84-a382-32f83d4d9e89",
   "metadata": {},
   "outputs": [
    {
     "name": "stderr",
     "output_type": "stream",
     "text": [
      "<>:1: SyntaxWarning: invalid escape sequence '\\s'\n",
      "<>:1: SyntaxWarning: invalid escape sequence '\\s'\n",
      "/run/user/1000/app/org.jupyter.JupyterLab/ipykernel_270/1971101977.py:1: SyntaxWarning: invalid escape sequence '\\s'\n",
      "  re.split('\\s+',text)\n"
     ]
    },
    {
     "data": {
      "text/plain": [
       "['foo', 'bar', 'baz', 'qux']"
      ]
     },
     "execution_count": 70,
     "metadata": {},
     "output_type": "execute_result"
    }
   ],
   "source": [
    "re.split('\\s+',text)"
   ]
  },
  {
   "cell_type": "code",
   "execution_count": 71,
   "id": "85147b81-ab6e-49c3-b357-cb70a28e0fdc",
   "metadata": {},
   "outputs": [
    {
     "name": "stderr",
     "output_type": "stream",
     "text": [
      "<>:1: SyntaxWarning: invalid escape sequence '\\s'\n",
      "<>:1: SyntaxWarning: invalid escape sequence '\\s'\n",
      "/run/user/1000/app/org.jupyter.JupyterLab/ipykernel_270/1890572334.py:1: SyntaxWarning: invalid escape sequence '\\s'\n",
      "  regex = re.compile('\\s+')\n"
     ]
    }
   ],
   "source": [
    "regex = re.compile('\\s+')"
   ]
  },
  {
   "cell_type": "code",
   "execution_count": 72,
   "id": "b3ecca4e-6a79-4072-a767-a8f91917f304",
   "metadata": {},
   "outputs": [
    {
     "data": {
      "text/plain": [
       "['foo', 'bar', 'baz', 'qux']"
      ]
     },
     "execution_count": 72,
     "metadata": {},
     "output_type": "execute_result"
    }
   ],
   "source": [
    "regex.split(text)"
   ]
  },
  {
   "cell_type": "code",
   "execution_count": 73,
   "id": "3995d6ec-b8fd-42f1-8863-262c41af95af",
   "metadata": {},
   "outputs": [
    {
     "data": {
      "text/plain": [
       "[' ', '\\t ', ' \\t']"
      ]
     },
     "execution_count": 73,
     "metadata": {},
     "output_type": "execute_result"
    }
   ],
   "source": [
    "regex.findall(text)"
   ]
  },
  {
   "cell_type": "code",
   "execution_count": 74,
   "id": "ce7fc48f-4c3c-47ef-9433-b66b3c972f73",
   "metadata": {},
   "outputs": [],
   "source": [
    "text = \"\"\"Nick nick@google.com\n",
    "malik malik@gmail.com\n",
    "kletus kletus@gmail.com\n",
    "Trask Trask@yahoo.com\n",
    "\"\"\"\n",
    "pattern = r'[A-Z0-9._%+-]+@[A-Z0-9.-]+\\.[A-Z]{2,4}'\n",
    "\n",
    "# re.IGNORECASE faz com que a regex não diferencie letras minúsculas de maiúsculas\n",
    "regex = re.compile(pattern, flags=re.IGNORECASE)"
   ]
  },
  {
   "cell_type": "code",
   "execution_count": 75,
   "id": "a5f60d84-d5b8-4ae8-9615-b7c7350395e0",
   "metadata": {},
   "outputs": [
    {
     "data": {
      "text/plain": [
       "['nick@google.com', 'malik@gmail.com', 'kletus@gmail.com', 'Trask@yahoo.com']"
      ]
     },
     "execution_count": 75,
     "metadata": {},
     "output_type": "execute_result"
    }
   ],
   "source": [
    "regex.findall(text)"
   ]
  },
  {
   "cell_type": "code",
   "execution_count": 76,
   "id": "d55b64b3-e744-4167-8419-2d2fcbc5fd0b",
   "metadata": {},
   "outputs": [],
   "source": [
    "m = regex.search(text)"
   ]
  },
  {
   "cell_type": "code",
   "execution_count": 77,
   "id": "8fab022d-7944-4b34-be34-5ab246ad251c",
   "metadata": {},
   "outputs": [
    {
     "data": {
      "text/plain": [
       "<re.Match object; span=(5, 20), match='nick@google.com'>"
      ]
     },
     "execution_count": 77,
     "metadata": {},
     "output_type": "execute_result"
    }
   ],
   "source": [
    "m"
   ]
  },
  {
   "cell_type": "code",
   "execution_count": 78,
   "id": "c5a06dec-fd74-4a28-849a-187f181e8839",
   "metadata": {},
   "outputs": [
    {
     "name": "stdout",
     "output_type": "stream",
     "text": [
      "None\n"
     ]
    }
   ],
   "source": [
    "print(regex.match(text))"
   ]
  },
  {
   "cell_type": "code",
   "execution_count": 79,
   "id": "78f0e28c-85fa-4301-92fd-f11dfd8c2c41",
   "metadata": {},
   "outputs": [
    {
     "name": "stdout",
     "output_type": "stream",
     "text": [
      "Nick REDACTED\n",
      "malik REDACTED\n",
      "kletus REDACTED\n",
      "Trask REDACTED\n",
      "\n"
     ]
    }
   ],
   "source": [
    "print(regex.sub('REDACTED',text))"
   ]
  },
  {
   "cell_type": "code",
   "execution_count": 80,
   "id": "34faacdb-acdb-4c36-a1dc-d5f13c2a2efe",
   "metadata": {},
   "outputs": [],
   "source": [
    "pattern = r'([A-Z0-9._%+-]+)@([A-Z0-9.-]+)\\.([A-Z]{2,4})'"
   ]
  },
  {
   "cell_type": "code",
   "execution_count": 81,
   "id": "a05d7aba-97d7-4748-a8e2-958da3138ed3",
   "metadata": {},
   "outputs": [],
   "source": [
    "regex = re.compile(pattern, flags=re.IGNORECASE)"
   ]
  },
  {
   "cell_type": "code",
   "execution_count": 82,
   "id": "4ed68417-17d7-4052-a080-2b0eabc50379",
   "metadata": {},
   "outputs": [],
   "source": [
    "m = regex.match('wesm@bright.net')"
   ]
  },
  {
   "cell_type": "code",
   "execution_count": 83,
   "id": "888fc6c1-5434-453d-ac72-c8bac78ea6d0",
   "metadata": {},
   "outputs": [
    {
     "data": {
      "text/plain": [
       "('wesm', 'bright', 'net')"
      ]
     },
     "execution_count": 83,
     "metadata": {},
     "output_type": "execute_result"
    }
   ],
   "source": [
    "m.groups()"
   ]
  },
  {
   "cell_type": "code",
   "execution_count": 84,
   "id": "fde9755a-3775-423f-bc38-952cf22daba4",
   "metadata": {},
   "outputs": [
    {
     "data": {
      "text/plain": [
       "[('nick', 'google', 'com'),\n",
       " ('malik', 'gmail', 'com'),\n",
       " ('kletus', 'gmail', 'com'),\n",
       " ('Trask', 'yahoo', 'com')]"
      ]
     },
     "execution_count": 84,
     "metadata": {},
     "output_type": "execute_result"
    }
   ],
   "source": [
    "regex.findall(text)"
   ]
  },
  {
   "cell_type": "code",
   "execution_count": 85,
   "id": "64632041-1a4b-451d-a682-2ac3e8630a74",
   "metadata": {},
   "outputs": [
    {
     "name": "stdout",
     "output_type": "stream",
     "text": [
      "Nick Usename:nick,Domain:google,Sufix:com\n",
      "malik Usename:malik,Domain:gmail,Sufix:com\n",
      "kletus Usename:kletus,Domain:gmail,Sufix:com\n",
      "Trask Usename:Trask,Domain:yahoo,Sufix:com\n",
      "\n"
     ]
    }
   ],
   "source": [
    "print(regex.sub(r'Usename:\\1,Domain:\\2,Sufix:\\3',text))"
   ]
  },
  {
   "cell_type": "code",
   "execution_count": 86,
   "id": "66729151-f3de-4dfd-b097-32be0d341986",
   "metadata": {},
   "outputs": [],
   "source": [
    "data = {'Nick': 'nick@google.com', 'Malik':'malik@gmail.com',\n",
    "       ......:'Kletus': 'kletus@gmail.com', 'Wes':np.nan}"
   ]
  },
  {
   "cell_type": "code",
   "execution_count": 87,
   "id": "12f8f92e-09cc-4bd0-ace3-5add13e31199",
   "metadata": {},
   "outputs": [],
   "source": [
    "data = pd.Series(data)"
   ]
  },
  {
   "cell_type": "code",
   "execution_count": 88,
   "id": "2b6e36c2-6499-4b50-94e0-c7b746f4bf02",
   "metadata": {},
   "outputs": [
    {
     "data": {
      "text/plain": [
       "Nick       nick@google.com\n",
       "Malik      malik@gmail.com\n",
       "Kletus    kletus@gmail.com\n",
       "Wes                    NaN\n",
       "dtype: object"
      ]
     },
     "execution_count": 88,
     "metadata": {},
     "output_type": "execute_result"
    }
   ],
   "source": [
    "data"
   ]
  },
  {
   "cell_type": "code",
   "execution_count": 89,
   "id": "81cb179b-5f06-40e3-923a-d2c491eea82d",
   "metadata": {},
   "outputs": [
    {
     "data": {
      "text/plain": [
       "Nick      False\n",
       "Malik     False\n",
       "Kletus    False\n",
       "Wes        True\n",
       "dtype: bool"
      ]
     },
     "execution_count": 89,
     "metadata": {},
     "output_type": "execute_result"
    }
   ],
   "source": [
    "data.isnull()"
   ]
  },
  {
   "cell_type": "code",
   "execution_count": 90,
   "id": "31a16116-8839-48a8-8144-f673eb9c3463",
   "metadata": {},
   "outputs": [
    {
     "data": {
      "text/plain": [
       "Nick      False\n",
       "Malik      True\n",
       "Kletus     True\n",
       "Wes         NaN\n",
       "dtype: object"
      ]
     },
     "execution_count": 90,
     "metadata": {},
     "output_type": "execute_result"
    }
   ],
   "source": [
    "data.str.contains('gmail')"
   ]
  },
  {
   "cell_type": "code",
   "execution_count": 91,
   "id": "4fccec41-b1bd-4d94-9626-031d63419f5f",
   "metadata": {},
   "outputs": [
    {
     "data": {
      "text/plain": [
       "'([A-Z0-9._%+-]+)@([A-Z0-9.-]+)\\\\.([A-Z]{2,4})'"
      ]
     },
     "execution_count": 91,
     "metadata": {},
     "output_type": "execute_result"
    }
   ],
   "source": [
    "pattern"
   ]
  },
  {
   "cell_type": "code",
   "execution_count": 92,
   "id": "8c97cbe3-cabc-4f8a-8024-f026dc31c4ac",
   "metadata": {},
   "outputs": [
    {
     "data": {
      "text/plain": [
       "Nick       [(nick, google, com)]\n",
       "Malik      [(malik, gmail, com)]\n",
       "Kletus    [(kletus, gmail, com)]\n",
       "Wes                          NaN\n",
       "dtype: object"
      ]
     },
     "execution_count": 92,
     "metadata": {},
     "output_type": "execute_result"
    }
   ],
   "source": [
    "data.str.findall(pattern,flags=re.IGNORECASE)"
   ]
  },
  {
   "cell_type": "code",
   "execution_count": 93,
   "id": "e5c7d667-1804-4408-b6e8-daaca09a9198",
   "metadata": {},
   "outputs": [],
   "source": [
    "matches = data.str.match(pattern,flags=re.IGNORECASE)"
   ]
  },
  {
   "cell_type": "code",
   "execution_count": 94,
   "id": "54cf70ba-01b0-4e2c-b686-43e83872e824",
   "metadata": {},
   "outputs": [
    {
     "data": {
      "text/plain": [
       "Nick      True\n",
       "Malik     True\n",
       "Kletus    True\n",
       "Wes        NaN\n",
       "dtype: object"
      ]
     },
     "execution_count": 94,
     "metadata": {},
     "output_type": "execute_result"
    }
   ],
   "source": [
    "matches"
   ]
  }
 ],
 "metadata": {
  "kernelspec": {
   "display_name": "Python 3 (ipykernel)",
   "language": "python",
   "name": "python3"
  },
  "language_info": {
   "codemirror_mode": {
    "name": "ipython",
    "version": 3
   },
   "file_extension": ".py",
   "mimetype": "text/x-python",
   "name": "python",
   "nbconvert_exporter": "python",
   "pygments_lexer": "ipython3",
   "version": "3.12.2"
  }
 },
 "nbformat": 4,
 "nbformat_minor": 5
}
