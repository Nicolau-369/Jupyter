{
 "cells": [
  {
   "cell_type": "code",
   "execution_count": 2,
   "id": "c30b9f1e-f89f-4cc1-bcab-ab1c6ddd6010",
   "metadata": {},
   "outputs": [],
   "source": [
    "import numpy as np\n",
    "import pandas as pd"
   ]
  },
  {
   "cell_type": "code",
   "execution_count": 3,
   "id": "cf785ad5-1c6a-4d93-b4f3-be694301c99d",
   "metadata": {},
   "outputs": [],
   "source": [
    "from datetime import datetime\n",
    "from pandas.tseries.offsets import Hour, Minute\n",
    "from pandas.tseries.offsets import Day, MonthEnd"
   ]
  },
  {
   "cell_type": "code",
   "execution_count": 4,
   "id": "c286ee45-7701-44e3-8e6a-cea6ae0b70bb",
   "metadata": {},
   "outputs": [],
   "source": [
    "now = datetime(2011, 11, 17)"
   ]
  },
  {
   "cell_type": "code",
   "execution_count": 5,
   "id": "b76d72a2-ce9e-45e5-8e5d-ae52d0c9c50f",
   "metadata": {},
   "outputs": [
    {
     "data": {
      "text/plain": [
       "Timestamp('2011-11-20 00:00:00')"
      ]
     },
     "execution_count": 5,
     "metadata": {},
     "output_type": "execute_result"
    }
   ],
   "source": [
    "now + 3 * Day()"
   ]
  },
  {
   "cell_type": "code",
   "execution_count": 6,
   "id": "c12bd1ff-d659-4f4e-b6d8-eb19b837f85b",
   "metadata": {},
   "outputs": [
    {
     "data": {
      "text/plain": [
       "Timestamp('2011-11-30 00:00:00')"
      ]
     },
     "execution_count": 6,
     "metadata": {},
     "output_type": "execute_result"
    }
   ],
   "source": [
    "now + MonthEnd()"
   ]
  },
  {
   "cell_type": "code",
   "execution_count": 7,
   "id": "ddbf64e0-3dc0-4d3d-a9ab-9e96681cde2e",
   "metadata": {},
   "outputs": [
    {
     "data": {
      "text/plain": [
       "Timestamp('2011-12-31 00:00:00')"
      ]
     },
     "execution_count": 7,
     "metadata": {},
     "output_type": "execute_result"
    }
   ],
   "source": [
    "now + MonthEnd(2)"
   ]
  },
  {
   "cell_type": "code",
   "execution_count": 8,
   "id": "dd8e8ffd-4311-4351-9004-010e4c0a25ac",
   "metadata": {},
   "outputs": [],
   "source": [
    "offset = MonthEnd()"
   ]
  },
  {
   "cell_type": "code",
   "execution_count": 9,
   "id": "6e6ff63d-4fdc-4da2-a54a-4a112564428c",
   "metadata": {},
   "outputs": [
    {
     "data": {
      "text/plain": [
       "Timestamp('2011-11-30 00:00:00')"
      ]
     },
     "execution_count": 9,
     "metadata": {},
     "output_type": "execute_result"
    }
   ],
   "source": [
    "offset.rollforward(now)"
   ]
  },
  {
   "cell_type": "code",
   "execution_count": 10,
   "id": "89a83080-6124-4a6a-8ea1-2468332706ea",
   "metadata": {},
   "outputs": [
    {
     "data": {
      "text/plain": [
       "Timestamp('2011-10-31 00:00:00')"
      ]
     },
     "execution_count": 10,
     "metadata": {},
     "output_type": "execute_result"
    }
   ],
   "source": [
    "offset.rollback(now)"
   ]
  },
  {
   "cell_type": "code",
   "execution_count": 11,
   "id": "cf3c8e35-b718-4b28-9b9c-5c52e60a5839",
   "metadata": {},
   "outputs": [],
   "source": [
    "ts = pd.Series(np.random.randn(20),\n",
    "               .......: index=pd.date_range('1/15/2000', periods=20, freq='4d'))"
   ]
  },
  {
   "cell_type": "code",
   "execution_count": 12,
   "id": "c956d6da-d184-48a6-9223-10c95aff71b2",
   "metadata": {},
   "outputs": [
    {
     "data": {
      "text/plain": [
       "2000-01-15   -0.149036\n",
       "2000-01-19    0.161142\n",
       "2000-01-23    0.858065\n",
       "2000-01-27   -1.361295\n",
       "2000-01-31   -1.453493\n",
       "2000-02-04    1.008994\n",
       "2000-02-08   -0.599482\n",
       "2000-02-12   -1.213395\n",
       "2000-02-16    0.398404\n",
       "2000-02-20   -0.885301\n",
       "2000-02-24   -0.087444\n",
       "2000-02-28    0.981353\n",
       "2000-03-03   -1.029820\n",
       "2000-03-07   -1.955995\n",
       "2000-03-11    0.041317\n",
       "2000-03-15    1.141705\n",
       "2000-03-19    0.080028\n",
       "2000-03-23    0.511901\n",
       "2000-03-27   -1.819635\n",
       "2000-03-31    0.075111\n",
       "Freq: 4D, dtype: float64"
      ]
     },
     "execution_count": 12,
     "metadata": {},
     "output_type": "execute_result"
    }
   ],
   "source": [
    "ts"
   ]
  },
  {
   "cell_type": "code",
   "execution_count": 13,
   "id": "3e785ef9-c3d4-44c1-b2a3-cc95c0d87af6",
   "metadata": {},
   "outputs": [
    {
     "data": {
      "text/plain": [
       "2000-01-31   -0.388924\n",
       "2000-02-29   -0.056696\n",
       "2000-03-31   -0.369424\n",
       "dtype: float64"
      ]
     },
     "execution_count": 13,
     "metadata": {},
     "output_type": "execute_result"
    }
   ],
   "source": [
    "ts.groupby(offset.rollforward).mean()"
   ]
  },
  {
   "cell_type": "code",
   "execution_count": 14,
   "id": "856b4978-16b7-42ec-83a2-d69e766087dd",
   "metadata": {},
   "outputs": [
    {
     "name": "stderr",
     "output_type": "stream",
     "text": [
      "/tmp/ipykernel_18339/2305925915.py:1: FutureWarning: 'M' is deprecated and will be removed in a future version, please use 'ME' instead.\n",
      "  ts.resample('M').mean()\n"
     ]
    },
    {
     "data": {
      "text/plain": [
       "2000-01-31   -0.388924\n",
       "2000-02-29   -0.056696\n",
       "2000-03-31   -0.369424\n",
       "Freq: ME, dtype: float64"
      ]
     },
     "execution_count": 14,
     "metadata": {},
     "output_type": "execute_result"
    }
   ],
   "source": [
    "ts.resample('M').mean()"
   ]
  },
  {
   "cell_type": "code",
   "execution_count": null,
   "id": "e83c7861-1aad-4950-9f2a-9fd676d6092c",
   "metadata": {},
   "outputs": [],
   "source": []
  }
 ],
 "metadata": {
  "kernelspec": {
   "display_name": "Python 3 (ipykernel)",
   "language": "python",
   "name": "python3"
  },
  "language_info": {
   "codemirror_mode": {
    "name": "ipython",
    "version": 3
   },
   "file_extension": ".py",
   "mimetype": "text/x-python",
   "name": "python",
   "nbconvert_exporter": "python",
   "pygments_lexer": "ipython3",
   "version": "3.12.1"
  }
 },
 "nbformat": 4,
 "nbformat_minor": 5
}
