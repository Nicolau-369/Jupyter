{
 "cells": [
  {
   "cell_type": "code",
   "execution_count": 2,
   "id": "979d9c51-5d65-4cbb-ad91-e482a7e3560f",
   "metadata": {},
   "outputs": [],
   "source": [
    "import numpy as np\n",
    "import pandas as pd\n",
    "import pytz"
   ]
  },
  {
   "cell_type": "code",
   "execution_count": 4,
   "id": "26e5d43e-aea9-4e0e-ba8f-306e9a80465b",
   "metadata": {},
   "outputs": [],
   "source": [
    "from datetime import datetime\n",
    "from pandas.tseries.offsets import Hour, Minute\n",
    "from pandas.tseries.offsets import Day, MonthEnd\n",
    "from pandas.tseries.offsets import Hour"
   ]
  },
  {
   "cell_type": "code",
   "execution_count": 5,
   "id": "3c94e273-2835-40e1-9d4c-a3be37aad6f8",
   "metadata": {},
   "outputs": [],
   "source": [
    "stamp = pd.Timestamp('2012-03-12 01:30', tz='US/Eastern')"
   ]
  },
  {
   "cell_type": "code",
   "execution_count": 6,
   "id": "9ac07f31-c727-4271-beef-98c7a7078097",
   "metadata": {},
   "outputs": [
    {
     "data": {
      "text/plain": [
       "Timestamp('2012-03-12 01:30:00-0400', tz='US/Eastern')"
      ]
     },
     "execution_count": 6,
     "metadata": {},
     "output_type": "execute_result"
    }
   ],
   "source": [
    "stamp"
   ]
  },
  {
   "cell_type": "code",
   "execution_count": 7,
   "id": "069a95a5-a1e3-40c7-af80-aaac6467fcf6",
   "metadata": {},
   "outputs": [
    {
     "data": {
      "text/plain": [
       "Timestamp('2012-03-12 02:30:00-0400', tz='US/Eastern')"
      ]
     },
     "execution_count": 7,
     "metadata": {},
     "output_type": "execute_result"
    }
   ],
   "source": [
    "stamp + Hour()"
   ]
  },
  {
   "cell_type": "code",
   "execution_count": 8,
   "id": "5d9055cd-20b1-42e5-828c-3bd8cd7c15c3",
   "metadata": {},
   "outputs": [],
   "source": [
    "stamp = pd.Timestamp('2012-11-04 00:30', tz='US/Eastern')"
   ]
  },
  {
   "cell_type": "code",
   "execution_count": 9,
   "id": "ba9e03d7-d81d-4526-94a0-d219d0587c27",
   "metadata": {},
   "outputs": [
    {
     "data": {
      "text/plain": [
       "Timestamp('2012-11-04 00:30:00-0400', tz='US/Eastern')"
      ]
     },
     "execution_count": 9,
     "metadata": {},
     "output_type": "execute_result"
    }
   ],
   "source": [
    "stamp"
   ]
  },
  {
   "cell_type": "code",
   "execution_count": 10,
   "id": "cbefe114-c6bf-48d4-916f-f56d0ba8719c",
   "metadata": {},
   "outputs": [
    {
     "data": {
      "text/plain": [
       "Timestamp('2012-11-04 01:30:00-0500', tz='US/Eastern')"
      ]
     },
     "execution_count": 10,
     "metadata": {},
     "output_type": "execute_result"
    }
   ],
   "source": [
    "stamp + 2 * Hour()"
   ]
  },
  {
   "cell_type": "code",
   "execution_count": 11,
   "id": "0927871d-bb7a-41ec-a3de-70f8b8b6df46",
   "metadata": {},
   "outputs": [],
   "source": [
    "rng = pd.date_range('3/7/2012 9:30', periods=10, freq='B')"
   ]
  },
  {
   "cell_type": "code",
   "execution_count": 12,
   "id": "3f716fe4-ac60-4358-8113-41f0e73b9fdf",
   "metadata": {},
   "outputs": [],
   "source": [
    "ts = pd.Series(np.random.randn(len(rng)), index=rng)"
   ]
  },
  {
   "cell_type": "code",
   "execution_count": 13,
   "id": "d462ea49-ec38-48e9-ae51-0610754763fb",
   "metadata": {},
   "outputs": [
    {
     "data": {
      "text/plain": [
       "2012-03-07 09:30:00   -0.223977\n",
       "2012-03-08 09:30:00    1.455151\n",
       "2012-03-09 09:30:00   -0.274834\n",
       "2012-03-12 09:30:00   -0.203339\n",
       "2012-03-13 09:30:00   -0.567050\n",
       "2012-03-14 09:30:00   -0.658986\n",
       "2012-03-15 09:30:00   -0.157422\n",
       "2012-03-16 09:30:00    2.028604\n",
       "2012-03-19 09:30:00    1.113781\n",
       "2012-03-20 09:30:00    0.153723\n",
       "Freq: B, dtype: float64"
      ]
     },
     "execution_count": 13,
     "metadata": {},
     "output_type": "execute_result"
    }
   ],
   "source": [
    "ts"
   ]
  },
  {
   "cell_type": "code",
   "execution_count": 14,
   "id": "94815023-b112-4729-9acf-7e949e3d0e5c",
   "metadata": {},
   "outputs": [],
   "source": [
    "ts1 = ts[:7].tz_localize('Europe/London')"
   ]
  },
  {
   "cell_type": "code",
   "execution_count": 15,
   "id": "19f0e531-5e23-48b7-991e-528bec669fd9",
   "metadata": {},
   "outputs": [],
   "source": [
    "ts2 = ts1[2:].tz_convert('Europe/Moscow')"
   ]
  },
  {
   "cell_type": "code",
   "execution_count": 16,
   "id": "01f212d2-f9ca-4c4a-b384-c453da0df47b",
   "metadata": {},
   "outputs": [],
   "source": [
    "result = ts1 + ts2"
   ]
  },
  {
   "cell_type": "code",
   "execution_count": 17,
   "id": "d76815d8-f99f-473f-bc02-93d6b9f3fd88",
   "metadata": {},
   "outputs": [
    {
     "data": {
      "text/plain": [
       "DatetimeIndex(['2012-03-07 09:30:00+00:00', '2012-03-08 09:30:00+00:00',\n",
       "               '2012-03-09 09:30:00+00:00', '2012-03-12 09:30:00+00:00',\n",
       "               '2012-03-13 09:30:00+00:00', '2012-03-14 09:30:00+00:00',\n",
       "               '2012-03-15 09:30:00+00:00'],\n",
       "              dtype='datetime64[ns, UTC]', freq=None)"
      ]
     },
     "execution_count": 17,
     "metadata": {},
     "output_type": "execute_result"
    }
   ],
   "source": [
    "result.index"
   ]
  },
  {
   "cell_type": "code",
   "execution_count": 31,
   "id": "2517b53e-7ad3-49c7-8a8f-6b2411c5707b",
   "metadata": {},
   "outputs": [],
   "source": [
    "p = pd.Period(2007, freq='Y-DEC')"
   ]
  },
  {
   "cell_type": "code",
   "execution_count": 19,
   "id": "c9f8848c-36bc-4221-b938-0aef6b419718",
   "metadata": {},
   "outputs": [
    {
     "data": {
      "text/plain": [
       "Period('2007', 'Y-DEC')"
      ]
     },
     "execution_count": 19,
     "metadata": {},
     "output_type": "execute_result"
    }
   ],
   "source": [
    "p"
   ]
  },
  {
   "cell_type": "code",
   "execution_count": 20,
   "id": "59144fee-f774-4cc0-8a3d-7687136e738e",
   "metadata": {},
   "outputs": [
    {
     "data": {
      "text/plain": [
       "Period('2012', 'Y-DEC')"
      ]
     },
     "execution_count": 20,
     "metadata": {},
     "output_type": "execute_result"
    }
   ],
   "source": [
    "p + 5"
   ]
  },
  {
   "cell_type": "code",
   "execution_count": 32,
   "id": "ae57305e-7084-45e8-abe9-a80d9b70be47",
   "metadata": {},
   "outputs": [
    {
     "data": {
      "text/plain": [
       "<7 * YearEnds: month=12>"
      ]
     },
     "execution_count": 32,
     "metadata": {},
     "output_type": "execute_result"
    }
   ],
   "source": [
    "pd.Period('2014', freq='Y-DEC') - p"
   ]
  },
  {
   "cell_type": "code",
   "execution_count": 33,
   "id": "d1806c25-af47-4af6-9920-126852ad92ba",
   "metadata": {},
   "outputs": [],
   "source": [
    "rng = pd.period_range('2000-01-01', '2000-06-30', freq='M')"
   ]
  },
  {
   "cell_type": "code",
   "execution_count": 34,
   "id": "ea36d210-f263-460a-9f95-cf780e17a9a5",
   "metadata": {},
   "outputs": [
    {
     "data": {
      "text/plain": [
       "PeriodIndex(['2000-01', '2000-02', '2000-03', '2000-04', '2000-05', '2000-06'], dtype='period[M]')"
      ]
     },
     "execution_count": 34,
     "metadata": {},
     "output_type": "execute_result"
    }
   ],
   "source": [
    "rng"
   ]
  },
  {
   "cell_type": "code",
   "execution_count": 35,
   "id": "5376b982-e5e2-458d-8a7f-f47abfa5114b",
   "metadata": {},
   "outputs": [
    {
     "data": {
      "text/plain": [
       "2000-01   -0.166290\n",
       "2000-02   -0.621801\n",
       "2000-03   -0.009683\n",
       "2000-04    0.440272\n",
       "2000-05   -1.271580\n",
       "2000-06    1.578793\n",
       "Freq: M, dtype: float64"
      ]
     },
     "execution_count": 35,
     "metadata": {},
     "output_type": "execute_result"
    }
   ],
   "source": [
    "pd.Series(np.random.randn(6), index=rng)"
   ]
  },
  {
   "cell_type": "code",
   "execution_count": 36,
   "id": "d1ca08ed-aed1-4f54-b592-34917b5878af",
   "metadata": {},
   "outputs": [],
   "source": [
    "values = ['2001Q3', '2002Q2', '2003Q1']"
   ]
  },
  {
   "cell_type": "code",
   "execution_count": 37,
   "id": "940734f7-03cf-41ac-90c9-1953876b2f48",
   "metadata": {},
   "outputs": [],
   "source": [
    "index = pd.PeriodIndex(values, freq='Q-DEC')"
   ]
  },
  {
   "cell_type": "code",
   "execution_count": 38,
   "id": "95eb730c-0da2-4909-bada-241d24cd4633",
   "metadata": {},
   "outputs": [
    {
     "data": {
      "text/plain": [
       "PeriodIndex(['2001Q3', '2002Q2', '2003Q1'], dtype='period[Q-DEC]')"
      ]
     },
     "execution_count": 38,
     "metadata": {},
     "output_type": "execute_result"
    }
   ],
   "source": [
    "index"
   ]
  },
  {
   "cell_type": "code",
   "execution_count": 39,
   "id": "f8ecf04e-0b1a-4415-b2de-8650db705642",
   "metadata": {},
   "outputs": [],
   "source": [
    "p = pd.Period('2007', freq='Y-DEC')"
   ]
  },
  {
   "cell_type": "code",
   "execution_count": 40,
   "id": "b4187140-ef95-420e-bc15-e6e94bf91b78",
   "metadata": {},
   "outputs": [
    {
     "data": {
      "text/plain": [
       "Period('2007', 'Y-DEC')"
      ]
     },
     "execution_count": 40,
     "metadata": {},
     "output_type": "execute_result"
    }
   ],
   "source": [
    "p"
   ]
  },
  {
   "cell_type": "code",
   "execution_count": 41,
   "id": "94a959ab-4422-4f5c-9dfc-98346539b3e7",
   "metadata": {},
   "outputs": [
    {
     "data": {
      "text/plain": [
       "Period('2007-01', 'M')"
      ]
     },
     "execution_count": 41,
     "metadata": {},
     "output_type": "execute_result"
    }
   ],
   "source": [
    "p.asfreq('M', how='start')"
   ]
  },
  {
   "cell_type": "code",
   "execution_count": 42,
   "id": "bb21c28d-9450-43b0-9828-429525931889",
   "metadata": {},
   "outputs": [
    {
     "data": {
      "text/plain": [
       "Period('2007-12', 'M')"
      ]
     },
     "execution_count": 42,
     "metadata": {},
     "output_type": "execute_result"
    }
   ],
   "source": [
    "p.asfreq('M', how='end')"
   ]
  },
  {
   "cell_type": "code",
   "execution_count": 44,
   "id": "e6898f44-0842-459c-80a7-2c440bc348ec",
   "metadata": {},
   "outputs": [],
   "source": [
    "p = pd.Period('2007', freq='Y-JUN')"
   ]
  },
  {
   "cell_type": "code",
   "execution_count": 45,
   "id": "514d6f1f-4a3f-419a-807e-90a685076f6f",
   "metadata": {},
   "outputs": [
    {
     "data": {
      "text/plain": [
       "Period('2007', 'Y-JUN')"
      ]
     },
     "execution_count": 45,
     "metadata": {},
     "output_type": "execute_result"
    }
   ],
   "source": [
    "p"
   ]
  },
  {
   "cell_type": "code",
   "execution_count": 46,
   "id": "c16426be-25f4-45ff-82e8-17279ecd87ba",
   "metadata": {},
   "outputs": [
    {
     "data": {
      "text/plain": [
       "Period('2006-07', 'M')"
      ]
     },
     "execution_count": 46,
     "metadata": {},
     "output_type": "execute_result"
    }
   ],
   "source": [
    "p.asfreq('M', 'start')"
   ]
  },
  {
   "cell_type": "code",
   "execution_count": 47,
   "id": "c459bcc0-a76d-4070-be8e-f858db355b4c",
   "metadata": {},
   "outputs": [
    {
     "data": {
      "text/plain": [
       "Period('2007-06', 'M')"
      ]
     },
     "execution_count": 47,
     "metadata": {},
     "output_type": "execute_result"
    }
   ],
   "source": [
    "p.asfreq('M', 'end')"
   ]
  },
  {
   "cell_type": "code",
   "execution_count": 48,
   "id": "84c0b4f9-7df6-46f2-8435-aa4921d1474a",
   "metadata": {},
   "outputs": [],
   "source": [
    "p = pd.Period('Aug-2007', 'M')"
   ]
  },
  {
   "cell_type": "code",
   "execution_count": 49,
   "id": "36c68854-5d99-4773-84c0-e1406235b911",
   "metadata": {},
   "outputs": [
    {
     "data": {
      "text/plain": [
       "Period('2008', 'Y-JUN')"
      ]
     },
     "execution_count": 49,
     "metadata": {},
     "output_type": "execute_result"
    }
   ],
   "source": [
    "p.asfreq('Y-JUN')"
   ]
  },
  {
   "cell_type": "code",
   "execution_count": 50,
   "id": "0920e480-6789-4438-a617-a19836d4cc03",
   "metadata": {},
   "outputs": [],
   "source": [
    "rng = pd.period_range('2006', '2009', freq='Y-DEC')"
   ]
  },
  {
   "cell_type": "code",
   "execution_count": 51,
   "id": "71ed1652-b0b1-489a-9541-bd59f3e6071f",
   "metadata": {},
   "outputs": [],
   "source": [
    "ts = pd.Series(np.random.randn(len(rng)), index=rng)"
   ]
  },
  {
   "cell_type": "code",
   "execution_count": 52,
   "id": "a73826c4-8f53-4ab9-b87f-596047961fff",
   "metadata": {},
   "outputs": [
    {
     "data": {
      "text/plain": [
       "2006   -1.597229\n",
       "2007    0.682140\n",
       "2008    0.598902\n",
       "2009   -1.651826\n",
       "Freq: Y-DEC, dtype: float64"
      ]
     },
     "execution_count": 52,
     "metadata": {},
     "output_type": "execute_result"
    }
   ],
   "source": [
    "ts"
   ]
  },
  {
   "cell_type": "code",
   "execution_count": 53,
   "id": "ea2b78e3-af0e-4795-956f-41ec8ce5f8e4",
   "metadata": {},
   "outputs": [
    {
     "data": {
      "text/plain": [
       "2006-01   -1.597229\n",
       "2007-01    0.682140\n",
       "2008-01    0.598902\n",
       "2009-01   -1.651826\n",
       "Freq: M, dtype: float64"
      ]
     },
     "execution_count": 53,
     "metadata": {},
     "output_type": "execute_result"
    }
   ],
   "source": [
    "ts.asfreq('M', how='start')"
   ]
  },
  {
   "cell_type": "code",
   "execution_count": 54,
   "id": "4315b559-6600-40d2-b1dc-ff6b46888ea2",
   "metadata": {},
   "outputs": [
    {
     "name": "stderr",
     "output_type": "stream",
     "text": [
      "/tmp/ipykernel_20664/3401117408.py:1: FutureWarning: PeriodDtype[B] is deprecated and will be removed in a future version. Use a DatetimeIndex with freq='B' instead\n",
      "  ts.asfreq('B', how='end')\n"
     ]
    },
    {
     "data": {
      "text/plain": [
       "2006-12-29   -1.597229\n",
       "2007-12-31    0.682140\n",
       "2008-12-31    0.598902\n",
       "2009-12-31   -1.651826\n",
       "Freq: B, dtype: float64"
      ]
     },
     "execution_count": 54,
     "metadata": {},
     "output_type": "execute_result"
    }
   ],
   "source": [
    "ts.asfreq('B', how='end')"
   ]
  },
  {
   "cell_type": "code",
   "execution_count": 55,
   "id": "8b970e49-e8c5-4c67-a9e2-ef4ae71f9898",
   "metadata": {},
   "outputs": [],
   "source": [
    "p = pd.Period('2012Q4', freq='Q-JAN')"
   ]
  },
  {
   "cell_type": "code",
   "execution_count": 56,
   "id": "5bf7161e-8f12-4f90-af3d-8f12c8371700",
   "metadata": {},
   "outputs": [
    {
     "data": {
      "text/plain": [
       "Period('2012Q4', 'Q-JAN')"
      ]
     },
     "execution_count": 56,
     "metadata": {},
     "output_type": "execute_result"
    }
   ],
   "source": [
    "p"
   ]
  },
  {
   "cell_type": "code",
   "execution_count": 57,
   "id": "3b789a4c-cfa8-444c-a2f7-d4abbb7228e3",
   "metadata": {},
   "outputs": [
    {
     "data": {
      "text/plain": [
       "Period('2011-11-01', 'D')"
      ]
     },
     "execution_count": 57,
     "metadata": {},
     "output_type": "execute_result"
    }
   ],
   "source": [
    "p.asfreq('D', 'start')"
   ]
  },
  {
   "cell_type": "code",
   "execution_count": 58,
   "id": "43ad6eef-d628-4686-a35d-98a980a5d25b",
   "metadata": {},
   "outputs": [
    {
     "data": {
      "text/plain": [
       "Period('2012-01-31', 'D')"
      ]
     },
     "execution_count": 58,
     "metadata": {},
     "output_type": "execute_result"
    }
   ],
   "source": [
    "p.asfreq('D', 'end')"
   ]
  },
  {
   "cell_type": "code",
   "execution_count": 59,
   "id": "a35ed32e-d448-41d4-a6b5-6f17cfcd8971",
   "metadata": {},
   "outputs": [
    {
     "name": "stderr",
     "output_type": "stream",
     "text": [
      "/tmp/ipykernel_20664/180315518.py:1: FutureWarning: Period with BDay freq is deprecated and will be removed in a future version. Use a DatetimeIndex with BDay freq instead.\n",
      "  p4pm = (p.asfreq('B', 'e') - 1).asfreq('T', 's') + 16 * 60\n",
      "/tmp/ipykernel_20664/180315518.py:1: FutureWarning: 'T' is deprecated and will be removed in a future version, please use 'min' instead.\n",
      "  p4pm = (p.asfreq('B', 'e') - 1).asfreq('T', 's') + 16 * 60\n"
     ]
    }
   ],
   "source": [
    "p4pm = (p.asfreq('B', 'e') - 1).asfreq('T', 's') + 16 * 60"
   ]
  },
  {
   "cell_type": "code",
   "execution_count": 60,
   "id": "00360f28-275c-471e-b5ce-ecbe5b47829b",
   "metadata": {},
   "outputs": [
    {
     "data": {
      "text/plain": [
       "Period('2012-01-30 16:00', 'min')"
      ]
     },
     "execution_count": 60,
     "metadata": {},
     "output_type": "execute_result"
    }
   ],
   "source": [
    "p4pm"
   ]
  },
  {
   "cell_type": "code",
   "execution_count": 61,
   "id": "f862547c-6619-41fc-bc63-d0e87be19564",
   "metadata": {},
   "outputs": [
    {
     "data": {
      "text/plain": [
       "Timestamp('2012-01-30 16:00:00')"
      ]
     },
     "execution_count": 61,
     "metadata": {},
     "output_type": "execute_result"
    }
   ],
   "source": [
    "p4pm.to_timestamp()"
   ]
  },
  {
   "cell_type": "code",
   "execution_count": 62,
   "id": "cb85737b-0854-46e9-815a-ac4383a187db",
   "metadata": {},
   "outputs": [],
   "source": [
    "rng = pd.period_range('2011Q3', '2012Q4', freq='Q-JAN')"
   ]
  },
  {
   "cell_type": "code",
   "execution_count": 63,
   "id": "4decc66b-9022-454a-a525-398de0f5caa1",
   "metadata": {},
   "outputs": [],
   "source": [
    "ts = pd.Series(np.arange(len(rng)), index=rng)"
   ]
  },
  {
   "cell_type": "code",
   "execution_count": 64,
   "id": "a4a7888f-e308-4572-a400-c25133e7d3b3",
   "metadata": {},
   "outputs": [
    {
     "data": {
      "text/plain": [
       "2011Q3    0\n",
       "2011Q4    1\n",
       "2012Q1    2\n",
       "2012Q2    3\n",
       "2012Q3    4\n",
       "2012Q4    5\n",
       "Freq: Q-JAN, dtype: int64"
      ]
     },
     "execution_count": 64,
     "metadata": {},
     "output_type": "execute_result"
    }
   ],
   "source": [
    "ts"
   ]
  },
  {
   "cell_type": "code",
   "execution_count": 65,
   "id": "9c21a237-be23-4793-9578-aabd013df548",
   "metadata": {},
   "outputs": [
    {
     "name": "stderr",
     "output_type": "stream",
     "text": [
      "/tmp/ipykernel_20664/553239697.py:1: FutureWarning: PeriodDtype[B] is deprecated and will be removed in a future version. Use a DatetimeIndex with freq='B' instead\n",
      "  new_rng = (rng.asfreq('B', 'e') - 1).asfreq('T', 's') + 16 * 60\n",
      "/tmp/ipykernel_20664/553239697.py:1: FutureWarning: 'T' is deprecated and will be removed in a future version, please use 'min' instead.\n",
      "  new_rng = (rng.asfreq('B', 'e') - 1).asfreq('T', 's') + 16 * 60\n"
     ]
    }
   ],
   "source": [
    "new_rng = (rng.asfreq('B', 'e') - 1).asfreq('T', 's') + 16 * 60"
   ]
  },
  {
   "cell_type": "code",
   "execution_count": 66,
   "id": "6c4cec9e-0960-4233-a6fd-fa4c5475fb4c",
   "metadata": {},
   "outputs": [],
   "source": [
    "ts.index = new_rng.to_timestamp()"
   ]
  },
  {
   "cell_type": "code",
   "execution_count": 67,
   "id": "80cfabb7-6192-428c-b3ee-bb4435a6eb1f",
   "metadata": {},
   "outputs": [
    {
     "data": {
      "text/plain": [
       "2010-10-28 16:00:00    0\n",
       "2011-01-28 16:00:00    1\n",
       "2011-04-28 16:00:00    2\n",
       "2011-07-28 16:00:00    3\n",
       "2011-10-28 16:00:00    4\n",
       "2012-01-30 16:00:00    5\n",
       "dtype: int64"
      ]
     },
     "execution_count": 67,
     "metadata": {},
     "output_type": "execute_result"
    }
   ],
   "source": [
    "ts"
   ]
  },
  {
   "cell_type": "code",
   "execution_count": 68,
   "id": "86759a66-fa10-4e68-8d4f-cf7519893ab8",
   "metadata": {},
   "outputs": [
    {
     "name": "stderr",
     "output_type": "stream",
     "text": [
      "/tmp/ipykernel_20664/931488141.py:1: FutureWarning: 'M' is deprecated and will be removed in a future version, please use 'ME' instead.\n",
      "  rng = pd.date_range('2000-01-01', periods=3, freq='M')\n"
     ]
    }
   ],
   "source": [
    "rng = pd.date_range('2000-01-01', periods=3, freq='M')"
   ]
  },
  {
   "cell_type": "code",
   "execution_count": 69,
   "id": "b02ccce8-a1a0-4e86-bdfb-f930024e393a",
   "metadata": {},
   "outputs": [],
   "source": [
    "ts = pd.Series(np.random.randn(3), index=rng)"
   ]
  },
  {
   "cell_type": "code",
   "execution_count": 70,
   "id": "e7ac0c4e-b2b0-4217-81b7-3d075bc632ef",
   "metadata": {},
   "outputs": [
    {
     "data": {
      "text/plain": [
       "2000-01-31    1.466055\n",
       "2000-02-29   -0.682919\n",
       "2000-03-31   -0.592358\n",
       "Freq: ME, dtype: float64"
      ]
     },
     "execution_count": 70,
     "metadata": {},
     "output_type": "execute_result"
    }
   ],
   "source": [
    "ts"
   ]
  },
  {
   "cell_type": "code",
   "execution_count": 71,
   "id": "8ae55140-46d4-4a3d-a068-3a021cc5b10e",
   "metadata": {},
   "outputs": [],
   "source": [
    "pts = ts.to_period()"
   ]
  },
  {
   "cell_type": "code",
   "execution_count": 72,
   "id": "b4544b41-d615-4619-8fa3-af2625058cbb",
   "metadata": {},
   "outputs": [
    {
     "data": {
      "text/plain": [
       "2000-01    1.466055\n",
       "2000-02   -0.682919\n",
       "2000-03   -0.592358\n",
       "Freq: M, dtype: float64"
      ]
     },
     "execution_count": 72,
     "metadata": {},
     "output_type": "execute_result"
    }
   ],
   "source": [
    "pts"
   ]
  },
  {
   "cell_type": "code",
   "execution_count": 73,
   "id": "45d0d2fd-ea18-449a-a83e-6d79464477fc",
   "metadata": {},
   "outputs": [],
   "source": [
    "rng = pd.date_range('1/29/2000', periods=6, freq='D')"
   ]
  },
  {
   "cell_type": "code",
   "execution_count": 74,
   "id": "4b6c9e94-0401-4051-8603-369a1ca3a1bf",
   "metadata": {},
   "outputs": [],
   "source": [
    "ts2 = pd.Series(np.random.randn(6), index=rng)"
   ]
  },
  {
   "cell_type": "code",
   "execution_count": 75,
   "id": "99ab6e6c-80a0-4da9-a6fa-35d6ef694930",
   "metadata": {},
   "outputs": [
    {
     "data": {
      "text/plain": [
       "2000-01-29   -0.733837\n",
       "2000-01-30   -1.838151\n",
       "2000-01-31    0.558505\n",
       "2000-02-01    0.372257\n",
       "2000-02-02   -0.249657\n",
       "2000-02-03   -0.767392\n",
       "Freq: D, dtype: float64"
      ]
     },
     "execution_count": 75,
     "metadata": {},
     "output_type": "execute_result"
    }
   ],
   "source": [
    "ts2"
   ]
  },
  {
   "cell_type": "code",
   "execution_count": 76,
   "id": "c6d2ee80-9a2f-448d-9580-b5fd1573a093",
   "metadata": {},
   "outputs": [
    {
     "data": {
      "text/plain": [
       "2000-01   -0.733837\n",
       "2000-01   -1.838151\n",
       "2000-01    0.558505\n",
       "2000-02    0.372257\n",
       "2000-02   -0.249657\n",
       "2000-02   -0.767392\n",
       "Freq: M, dtype: float64"
      ]
     },
     "execution_count": 76,
     "metadata": {},
     "output_type": "execute_result"
    }
   ],
   "source": [
    "ts2.to_period('M')"
   ]
  },
  {
   "cell_type": "code",
   "execution_count": 77,
   "id": "080b2f01-54e9-476f-ab6d-45981bff334a",
   "metadata": {},
   "outputs": [],
   "source": [
    "pts = ts2.to_period()"
   ]
  },
  {
   "cell_type": "code",
   "execution_count": 78,
   "id": "7d587812-d4b6-468f-8bfa-5bece76af50f",
   "metadata": {},
   "outputs": [
    {
     "data": {
      "text/plain": [
       "2000-01-29   -0.733837\n",
       "2000-01-30   -1.838151\n",
       "2000-01-31    0.558505\n",
       "2000-02-01    0.372257\n",
       "2000-02-02   -0.249657\n",
       "2000-02-03   -0.767392\n",
       "Freq: D, dtype: float64"
      ]
     },
     "execution_count": 78,
     "metadata": {},
     "output_type": "execute_result"
    }
   ],
   "source": [
    "pts"
   ]
  },
  {
   "cell_type": "code",
   "execution_count": 79,
   "id": "2f2901a9-e7b6-4ab7-8b05-38349ef8103f",
   "metadata": {},
   "outputs": [
    {
     "data": {
      "text/plain": [
       "2000-01-29 23:59:59.999999999   -0.733837\n",
       "2000-01-30 23:59:59.999999999   -1.838151\n",
       "2000-01-31 23:59:59.999999999    0.558505\n",
       "2000-02-01 23:59:59.999999999    0.372257\n",
       "2000-02-02 23:59:59.999999999   -0.249657\n",
       "2000-02-03 23:59:59.999999999   -0.767392\n",
       "Freq: D, dtype: float64"
      ]
     },
     "execution_count": 79,
     "metadata": {},
     "output_type": "execute_result"
    }
   ],
   "source": [
    "pts.to_timestamp(how='end')"
   ]
  },
  {
   "cell_type": "code",
   "execution_count": 82,
   "id": "d07fb053-6946-4733-828d-e782908deca8",
   "metadata": {},
   "outputs": [],
   "source": [
    "rng = pd.date_range('2000-01-01', periods=100, freq='D')"
   ]
  },
  {
   "cell_type": "code",
   "execution_count": 83,
   "id": "72cf2ee9-05a4-476c-a432-af63b63b24a7",
   "metadata": {},
   "outputs": [],
   "source": [
    "ts = pd.Series(np.random.randn(len(rng)), index=rng)"
   ]
  },
  {
   "cell_type": "code",
   "execution_count": 84,
   "id": "6c636b36-9e4a-4edb-88c5-7dcf0be2e852",
   "metadata": {},
   "outputs": [
    {
     "data": {
      "text/plain": [
       "2000-01-01   -0.469840\n",
       "2000-01-02   -1.735214\n",
       "2000-01-03    0.157183\n",
       "2000-01-04    0.559968\n",
       "2000-01-05    0.132234\n",
       "                ...   \n",
       "2000-04-05   -0.054153\n",
       "2000-04-06    2.546067\n",
       "2000-04-07   -0.232234\n",
       "2000-04-08    1.590988\n",
       "2000-04-09    0.709987\n",
       "Freq: D, Length: 100, dtype: float64"
      ]
     },
     "execution_count": 84,
     "metadata": {},
     "output_type": "execute_result"
    }
   ],
   "source": [
    "ts"
   ]
  },
  {
   "cell_type": "code",
   "execution_count": 85,
   "id": "5f2ab955-30c1-4ae6-b99e-bd83e5d26ef3",
   "metadata": {},
   "outputs": [
    {
     "name": "stderr",
     "output_type": "stream",
     "text": [
      "/tmp/ipykernel_20664/2305925915.py:1: FutureWarning: 'M' is deprecated and will be removed in a future version, please use 'ME' instead.\n",
      "  ts.resample('M').mean()\n"
     ]
    },
    {
     "data": {
      "text/plain": [
       "2000-01-31    0.121146\n",
       "2000-02-29    0.199563\n",
       "2000-03-31    0.165505\n",
       "2000-04-30    0.485363\n",
       "Freq: ME, dtype: float64"
      ]
     },
     "execution_count": 85,
     "metadata": {},
     "output_type": "execute_result"
    }
   ],
   "source": [
    "ts.resample('M').mean()"
   ]
  },
  {
   "cell_type": "code",
   "execution_count": 86,
   "id": "fa944f3a-a9de-4f36-9a24-7200c93d5046",
   "metadata": {},
   "outputs": [
    {
     "name": "stderr",
     "output_type": "stream",
     "text": [
      "/tmp/ipykernel_20664/1597458493.py:1: FutureWarning: The 'kind' keyword in Series.resample is deprecated and will be removed in a future version. Explicitly cast the index to the desired type instead\n",
      "  ts.resample('M', kind='period').mean()\n",
      "/tmp/ipykernel_20664/1597458493.py:1: FutureWarning: 'M' is deprecated and will be removed in a future version, please use 'ME' instead.\n",
      "  ts.resample('M', kind='period').mean()\n"
     ]
    },
    {
     "data": {
      "text/plain": [
       "2000-01    0.121146\n",
       "2000-02    0.199563\n",
       "2000-03    0.165505\n",
       "2000-04    0.485363\n",
       "Freq: M, dtype: float64"
      ]
     },
     "execution_count": 86,
     "metadata": {},
     "output_type": "execute_result"
    }
   ],
   "source": [
    "ts.resample('M', kind='period').mean()"
   ]
  },
  {
   "cell_type": "code",
   "execution_count": 87,
   "id": "87308ff2-6c84-4dbb-88ab-5b1e8e262ee9",
   "metadata": {},
   "outputs": [
    {
     "name": "stderr",
     "output_type": "stream",
     "text": [
      "/tmp/ipykernel_20664/3835676484.py:1: FutureWarning: 'T' is deprecated and will be removed in a future version, please use 'min' instead.\n",
      "  rng = pd.date_range('2000-01-01', periods=12, freq='T')\n"
     ]
    }
   ],
   "source": [
    "rng = pd.date_range('2000-01-01', periods=12, freq='T')"
   ]
  },
  {
   "cell_type": "code",
   "execution_count": 88,
   "id": "c067a720-ff22-43d5-b10a-9d547018e0e9",
   "metadata": {},
   "outputs": [],
   "source": [
    "ts = pd.Series(np.arange(12), index=rng)"
   ]
  },
  {
   "cell_type": "code",
   "execution_count": 89,
   "id": "eff4d2be-e2af-4dd7-a5c3-07c14bf99ce2",
   "metadata": {},
   "outputs": [
    {
     "data": {
      "text/plain": [
       "2000-01-01 00:00:00     0\n",
       "2000-01-01 00:01:00     1\n",
       "2000-01-01 00:02:00     2\n",
       "2000-01-01 00:03:00     3\n",
       "2000-01-01 00:04:00     4\n",
       "2000-01-01 00:05:00     5\n",
       "2000-01-01 00:06:00     6\n",
       "2000-01-01 00:07:00     7\n",
       "2000-01-01 00:08:00     8\n",
       "2000-01-01 00:09:00     9\n",
       "2000-01-01 00:10:00    10\n",
       "2000-01-01 00:11:00    11\n",
       "Freq: min, dtype: int64"
      ]
     },
     "execution_count": 89,
     "metadata": {},
     "output_type": "execute_result"
    }
   ],
   "source": [
    "ts"
   ]
  },
  {
   "cell_type": "code",
   "execution_count": 90,
   "id": "1ba30447-5038-43c2-86d5-914b4ba4da8e",
   "metadata": {},
   "outputs": [
    {
     "data": {
      "text/plain": [
       "1999-12-31 23:55:00     0\n",
       "2000-01-01 00:00:00    15\n",
       "2000-01-01 00:05:00    40\n",
       "2000-01-01 00:10:00    11\n",
       "Freq: 5min, dtype: int64"
      ]
     },
     "execution_count": 90,
     "metadata": {},
     "output_type": "execute_result"
    }
   ],
   "source": [
    "ts.resample('5min', closed='right').sum()"
   ]
  },
  {
   "cell_type": "code",
   "execution_count": 91,
   "id": "4944f706-8838-4de0-812c-0db4d8996469",
   "metadata": {},
   "outputs": [
    {
     "data": {
      "text/plain": [
       "1999-12-31 23:55:00     0\n",
       "2000-01-01 00:00:00    15\n",
       "2000-01-01 00:05:00    40\n",
       "2000-01-01 00:10:00    11\n",
       "Freq: 5min, dtype: int64"
      ]
     },
     "execution_count": 91,
     "metadata": {},
     "output_type": "execute_result"
    }
   ],
   "source": [
    "ts.resample('5min', closed='right').sum()"
   ]
  },
  {
   "cell_type": "code",
   "execution_count": 92,
   "id": "767c182f-6cbb-4745-b10a-4fc2b7824cb1",
   "metadata": {},
   "outputs": [
    {
     "data": {
      "text/plain": [
       "2000-01-01 00:00:00     0\n",
       "2000-01-01 00:05:00    15\n",
       "2000-01-01 00:10:00    40\n",
       "2000-01-01 00:15:00    11\n",
       "Freq: 5min, dtype: int64"
      ]
     },
     "execution_count": 92,
     "metadata": {},
     "output_type": "execute_result"
    }
   ],
   "source": [
    "ts.resample('5min', closed='right', label='right').sum()"
   ]
  },
  {
   "cell_type": "code",
   "execution_count": 94,
   "id": "0a251b2a-5413-4f9a-8f69-076f0e6022bc",
   "metadata": {},
   "outputs": [
    {
     "data": {
      "text/html": [
       "<div>\n",
       "<style scoped>\n",
       "    .dataframe tbody tr th:only-of-type {\n",
       "        vertical-align: middle;\n",
       "    }\n",
       "\n",
       "    .dataframe tbody tr th {\n",
       "        vertical-align: top;\n",
       "    }\n",
       "\n",
       "    .dataframe thead th {\n",
       "        text-align: right;\n",
       "    }\n",
       "</style>\n",
       "<table border=\"1\" class=\"dataframe\">\n",
       "  <thead>\n",
       "    <tr style=\"text-align: right;\">\n",
       "      <th></th>\n",
       "      <th>open</th>\n",
       "      <th>high</th>\n",
       "      <th>low</th>\n",
       "      <th>close</th>\n",
       "    </tr>\n",
       "  </thead>\n",
       "  <tbody>\n",
       "    <tr>\n",
       "      <th>2000-01-01 00:00:00</th>\n",
       "      <td>0</td>\n",
       "      <td>4</td>\n",
       "      <td>0</td>\n",
       "      <td>4</td>\n",
       "    </tr>\n",
       "    <tr>\n",
       "      <th>2000-01-01 00:05:00</th>\n",
       "      <td>5</td>\n",
       "      <td>9</td>\n",
       "      <td>5</td>\n",
       "      <td>9</td>\n",
       "    </tr>\n",
       "    <tr>\n",
       "      <th>2000-01-01 00:10:00</th>\n",
       "      <td>10</td>\n",
       "      <td>11</td>\n",
       "      <td>10</td>\n",
       "      <td>11</td>\n",
       "    </tr>\n",
       "  </tbody>\n",
       "</table>\n",
       "</div>"
      ],
      "text/plain": [
       "                     open  high  low  close\n",
       "2000-01-01 00:00:00     0     4    0      4\n",
       "2000-01-01 00:05:00     5     9    5      9\n",
       "2000-01-01 00:10:00    10    11   10     11"
      ]
     },
     "execution_count": 94,
     "metadata": {},
     "output_type": "execute_result"
    }
   ],
   "source": [
    "ts.resample('5min').ohlc()"
   ]
  },
  {
   "cell_type": "code",
   "execution_count": 95,
   "id": "8d8ddeb0-f458-4420-880b-da734b70a8ae",
   "metadata": {},
   "outputs": [],
   "source": [
    "frame = pd.DataFrame(np.random.randn(2, 4),\n",
    "                     ......: index=pd.date_range('1/1/2000', periods=2,\n",
    "                     ......: freq='W-WED'),\n",
    "                     ......: columns=['Roma', 'Milão', 'Toscana', 'Florença'])"
   ]
  },
  {
   "cell_type": "code",
   "execution_count": 96,
   "id": "c7c9378f-22b3-4044-a4d6-c365464d4394",
   "metadata": {},
   "outputs": [
    {
     "data": {
      "text/html": [
       "<div>\n",
       "<style scoped>\n",
       "    .dataframe tbody tr th:only-of-type {\n",
       "        vertical-align: middle;\n",
       "    }\n",
       "\n",
       "    .dataframe tbody tr th {\n",
       "        vertical-align: top;\n",
       "    }\n",
       "\n",
       "    .dataframe thead th {\n",
       "        text-align: right;\n",
       "    }\n",
       "</style>\n",
       "<table border=\"1\" class=\"dataframe\">\n",
       "  <thead>\n",
       "    <tr style=\"text-align: right;\">\n",
       "      <th></th>\n",
       "      <th>Roma</th>\n",
       "      <th>Milão</th>\n",
       "      <th>Toscana</th>\n",
       "      <th>Florença</th>\n",
       "    </tr>\n",
       "  </thead>\n",
       "  <tbody>\n",
       "    <tr>\n",
       "      <th>2000-01-05</th>\n",
       "      <td>-1.262898</td>\n",
       "      <td>-0.460597</td>\n",
       "      <td>-0.337807</td>\n",
       "      <td>0.019524</td>\n",
       "    </tr>\n",
       "    <tr>\n",
       "      <th>2000-01-12</th>\n",
       "      <td>-1.221449</td>\n",
       "      <td>-0.155623</td>\n",
       "      <td>1.434020</td>\n",
       "      <td>-0.633530</td>\n",
       "    </tr>\n",
       "  </tbody>\n",
       "</table>\n",
       "</div>"
      ],
      "text/plain": [
       "                Roma     Milão   Toscana  Florença\n",
       "2000-01-05 -1.262898 -0.460597 -0.337807  0.019524\n",
       "2000-01-12 -1.221449 -0.155623  1.434020 -0.633530"
      ]
     },
     "execution_count": 96,
     "metadata": {},
     "output_type": "execute_result"
    }
   ],
   "source": [
    "frame"
   ]
  },
  {
   "cell_type": "code",
   "execution_count": 97,
   "id": "85c177ae-34b3-4a80-af68-755abbd3209f",
   "metadata": {},
   "outputs": [],
   "source": [
    "df_daily = frame.resample('D').asfreq()"
   ]
  },
  {
   "cell_type": "code",
   "execution_count": 98,
   "id": "966cc925-21e0-4a62-934a-d23113183f1e",
   "metadata": {},
   "outputs": [
    {
     "data": {
      "text/html": [
       "<div>\n",
       "<style scoped>\n",
       "    .dataframe tbody tr th:only-of-type {\n",
       "        vertical-align: middle;\n",
       "    }\n",
       "\n",
       "    .dataframe tbody tr th {\n",
       "        vertical-align: top;\n",
       "    }\n",
       "\n",
       "    .dataframe thead th {\n",
       "        text-align: right;\n",
       "    }\n",
       "</style>\n",
       "<table border=\"1\" class=\"dataframe\">\n",
       "  <thead>\n",
       "    <tr style=\"text-align: right;\">\n",
       "      <th></th>\n",
       "      <th>Roma</th>\n",
       "      <th>Milão</th>\n",
       "      <th>Toscana</th>\n",
       "      <th>Florença</th>\n",
       "    </tr>\n",
       "  </thead>\n",
       "  <tbody>\n",
       "    <tr>\n",
       "      <th>2000-01-05</th>\n",
       "      <td>-1.262898</td>\n",
       "      <td>-0.460597</td>\n",
       "      <td>-0.337807</td>\n",
       "      <td>0.019524</td>\n",
       "    </tr>\n",
       "    <tr>\n",
       "      <th>2000-01-06</th>\n",
       "      <td>NaN</td>\n",
       "      <td>NaN</td>\n",
       "      <td>NaN</td>\n",
       "      <td>NaN</td>\n",
       "    </tr>\n",
       "    <tr>\n",
       "      <th>2000-01-07</th>\n",
       "      <td>NaN</td>\n",
       "      <td>NaN</td>\n",
       "      <td>NaN</td>\n",
       "      <td>NaN</td>\n",
       "    </tr>\n",
       "    <tr>\n",
       "      <th>2000-01-08</th>\n",
       "      <td>NaN</td>\n",
       "      <td>NaN</td>\n",
       "      <td>NaN</td>\n",
       "      <td>NaN</td>\n",
       "    </tr>\n",
       "    <tr>\n",
       "      <th>2000-01-09</th>\n",
       "      <td>NaN</td>\n",
       "      <td>NaN</td>\n",
       "      <td>NaN</td>\n",
       "      <td>NaN</td>\n",
       "    </tr>\n",
       "    <tr>\n",
       "      <th>2000-01-10</th>\n",
       "      <td>NaN</td>\n",
       "      <td>NaN</td>\n",
       "      <td>NaN</td>\n",
       "      <td>NaN</td>\n",
       "    </tr>\n",
       "    <tr>\n",
       "      <th>2000-01-11</th>\n",
       "      <td>NaN</td>\n",
       "      <td>NaN</td>\n",
       "      <td>NaN</td>\n",
       "      <td>NaN</td>\n",
       "    </tr>\n",
       "    <tr>\n",
       "      <th>2000-01-12</th>\n",
       "      <td>-1.221449</td>\n",
       "      <td>-0.155623</td>\n",
       "      <td>1.434020</td>\n",
       "      <td>-0.633530</td>\n",
       "    </tr>\n",
       "  </tbody>\n",
       "</table>\n",
       "</div>"
      ],
      "text/plain": [
       "                Roma     Milão   Toscana  Florença\n",
       "2000-01-05 -1.262898 -0.460597 -0.337807  0.019524\n",
       "2000-01-06       NaN       NaN       NaN       NaN\n",
       "2000-01-07       NaN       NaN       NaN       NaN\n",
       "2000-01-08       NaN       NaN       NaN       NaN\n",
       "2000-01-09       NaN       NaN       NaN       NaN\n",
       "2000-01-10       NaN       NaN       NaN       NaN\n",
       "2000-01-11       NaN       NaN       NaN       NaN\n",
       "2000-01-12 -1.221449 -0.155623  1.434020 -0.633530"
      ]
     },
     "execution_count": 98,
     "metadata": {},
     "output_type": "execute_result"
    }
   ],
   "source": [
    "df_daily"
   ]
  },
  {
   "cell_type": "code",
   "execution_count": 99,
   "id": "401ca00e-ea62-43b2-9423-9be046d42f37",
   "metadata": {},
   "outputs": [
    {
     "data": {
      "text/html": [
       "<div>\n",
       "<style scoped>\n",
       "    .dataframe tbody tr th:only-of-type {\n",
       "        vertical-align: middle;\n",
       "    }\n",
       "\n",
       "    .dataframe tbody tr th {\n",
       "        vertical-align: top;\n",
       "    }\n",
       "\n",
       "    .dataframe thead th {\n",
       "        text-align: right;\n",
       "    }\n",
       "</style>\n",
       "<table border=\"1\" class=\"dataframe\">\n",
       "  <thead>\n",
       "    <tr style=\"text-align: right;\">\n",
       "      <th></th>\n",
       "      <th>Roma</th>\n",
       "      <th>Milão</th>\n",
       "      <th>Toscana</th>\n",
       "      <th>Florença</th>\n",
       "    </tr>\n",
       "  </thead>\n",
       "  <tbody>\n",
       "    <tr>\n",
       "      <th>2000-01-05</th>\n",
       "      <td>-1.262898</td>\n",
       "      <td>-0.460597</td>\n",
       "      <td>-0.337807</td>\n",
       "      <td>0.019524</td>\n",
       "    </tr>\n",
       "    <tr>\n",
       "      <th>2000-01-06</th>\n",
       "      <td>-1.262898</td>\n",
       "      <td>-0.460597</td>\n",
       "      <td>-0.337807</td>\n",
       "      <td>0.019524</td>\n",
       "    </tr>\n",
       "    <tr>\n",
       "      <th>2000-01-07</th>\n",
       "      <td>-1.262898</td>\n",
       "      <td>-0.460597</td>\n",
       "      <td>-0.337807</td>\n",
       "      <td>0.019524</td>\n",
       "    </tr>\n",
       "    <tr>\n",
       "      <th>2000-01-08</th>\n",
       "      <td>-1.262898</td>\n",
       "      <td>-0.460597</td>\n",
       "      <td>-0.337807</td>\n",
       "      <td>0.019524</td>\n",
       "    </tr>\n",
       "    <tr>\n",
       "      <th>2000-01-09</th>\n",
       "      <td>-1.262898</td>\n",
       "      <td>-0.460597</td>\n",
       "      <td>-0.337807</td>\n",
       "      <td>0.019524</td>\n",
       "    </tr>\n",
       "    <tr>\n",
       "      <th>2000-01-10</th>\n",
       "      <td>-1.262898</td>\n",
       "      <td>-0.460597</td>\n",
       "      <td>-0.337807</td>\n",
       "      <td>0.019524</td>\n",
       "    </tr>\n",
       "    <tr>\n",
       "      <th>2000-01-11</th>\n",
       "      <td>-1.262898</td>\n",
       "      <td>-0.460597</td>\n",
       "      <td>-0.337807</td>\n",
       "      <td>0.019524</td>\n",
       "    </tr>\n",
       "    <tr>\n",
       "      <th>2000-01-12</th>\n",
       "      <td>-1.221449</td>\n",
       "      <td>-0.155623</td>\n",
       "      <td>1.434020</td>\n",
       "      <td>-0.633530</td>\n",
       "    </tr>\n",
       "  </tbody>\n",
       "</table>\n",
       "</div>"
      ],
      "text/plain": [
       "                Roma     Milão   Toscana  Florença\n",
       "2000-01-05 -1.262898 -0.460597 -0.337807  0.019524\n",
       "2000-01-06 -1.262898 -0.460597 -0.337807  0.019524\n",
       "2000-01-07 -1.262898 -0.460597 -0.337807  0.019524\n",
       "2000-01-08 -1.262898 -0.460597 -0.337807  0.019524\n",
       "2000-01-09 -1.262898 -0.460597 -0.337807  0.019524\n",
       "2000-01-10 -1.262898 -0.460597 -0.337807  0.019524\n",
       "2000-01-11 -1.262898 -0.460597 -0.337807  0.019524\n",
       "2000-01-12 -1.221449 -0.155623  1.434020 -0.633530"
      ]
     },
     "execution_count": 99,
     "metadata": {},
     "output_type": "execute_result"
    }
   ],
   "source": [
    "frame.resample('D').ffill()"
   ]
  },
  {
   "cell_type": "code",
   "execution_count": 100,
   "id": "dba9e345-2ada-4cfe-a5b8-7a3380446986",
   "metadata": {},
   "outputs": [
    {
     "data": {
      "text/html": [
       "<div>\n",
       "<style scoped>\n",
       "    .dataframe tbody tr th:only-of-type {\n",
       "        vertical-align: middle;\n",
       "    }\n",
       "\n",
       "    .dataframe tbody tr th {\n",
       "        vertical-align: top;\n",
       "    }\n",
       "\n",
       "    .dataframe thead th {\n",
       "        text-align: right;\n",
       "    }\n",
       "</style>\n",
       "<table border=\"1\" class=\"dataframe\">\n",
       "  <thead>\n",
       "    <tr style=\"text-align: right;\">\n",
       "      <th></th>\n",
       "      <th>Roma</th>\n",
       "      <th>Milão</th>\n",
       "      <th>Toscana</th>\n",
       "      <th>Florença</th>\n",
       "    </tr>\n",
       "  </thead>\n",
       "  <tbody>\n",
       "    <tr>\n",
       "      <th>2000-01-05</th>\n",
       "      <td>-1.262898</td>\n",
       "      <td>-0.460597</td>\n",
       "      <td>-0.337807</td>\n",
       "      <td>0.019524</td>\n",
       "    </tr>\n",
       "    <tr>\n",
       "      <th>2000-01-06</th>\n",
       "      <td>-1.262898</td>\n",
       "      <td>-0.460597</td>\n",
       "      <td>-0.337807</td>\n",
       "      <td>0.019524</td>\n",
       "    </tr>\n",
       "    <tr>\n",
       "      <th>2000-01-07</th>\n",
       "      <td>-1.262898</td>\n",
       "      <td>-0.460597</td>\n",
       "      <td>-0.337807</td>\n",
       "      <td>0.019524</td>\n",
       "    </tr>\n",
       "    <tr>\n",
       "      <th>2000-01-08</th>\n",
       "      <td>NaN</td>\n",
       "      <td>NaN</td>\n",
       "      <td>NaN</td>\n",
       "      <td>NaN</td>\n",
       "    </tr>\n",
       "    <tr>\n",
       "      <th>2000-01-09</th>\n",
       "      <td>NaN</td>\n",
       "      <td>NaN</td>\n",
       "      <td>NaN</td>\n",
       "      <td>NaN</td>\n",
       "    </tr>\n",
       "    <tr>\n",
       "      <th>2000-01-10</th>\n",
       "      <td>NaN</td>\n",
       "      <td>NaN</td>\n",
       "      <td>NaN</td>\n",
       "      <td>NaN</td>\n",
       "    </tr>\n",
       "    <tr>\n",
       "      <th>2000-01-11</th>\n",
       "      <td>NaN</td>\n",
       "      <td>NaN</td>\n",
       "      <td>NaN</td>\n",
       "      <td>NaN</td>\n",
       "    </tr>\n",
       "    <tr>\n",
       "      <th>2000-01-12</th>\n",
       "      <td>-1.221449</td>\n",
       "      <td>-0.155623</td>\n",
       "      <td>1.434020</td>\n",
       "      <td>-0.633530</td>\n",
       "    </tr>\n",
       "  </tbody>\n",
       "</table>\n",
       "</div>"
      ],
      "text/plain": [
       "                Roma     Milão   Toscana  Florença\n",
       "2000-01-05 -1.262898 -0.460597 -0.337807  0.019524\n",
       "2000-01-06 -1.262898 -0.460597 -0.337807  0.019524\n",
       "2000-01-07 -1.262898 -0.460597 -0.337807  0.019524\n",
       "2000-01-08       NaN       NaN       NaN       NaN\n",
       "2000-01-09       NaN       NaN       NaN       NaN\n",
       "2000-01-10       NaN       NaN       NaN       NaN\n",
       "2000-01-11       NaN       NaN       NaN       NaN\n",
       "2000-01-12 -1.221449 -0.155623  1.434020 -0.633530"
      ]
     },
     "execution_count": 100,
     "metadata": {},
     "output_type": "execute_result"
    }
   ],
   "source": [
    "frame.resample('D').ffill(limit=2)"
   ]
  },
  {
   "cell_type": "code",
   "execution_count": 101,
   "id": "4f7b8c65-2241-494c-828b-d2bd55d7eafe",
   "metadata": {},
   "outputs": [
    {
     "data": {
      "text/html": [
       "<div>\n",
       "<style scoped>\n",
       "    .dataframe tbody tr th:only-of-type {\n",
       "        vertical-align: middle;\n",
       "    }\n",
       "\n",
       "    .dataframe tbody tr th {\n",
       "        vertical-align: top;\n",
       "    }\n",
       "\n",
       "    .dataframe thead th {\n",
       "        text-align: right;\n",
       "    }\n",
       "</style>\n",
       "<table border=\"1\" class=\"dataframe\">\n",
       "  <thead>\n",
       "    <tr style=\"text-align: right;\">\n",
       "      <th></th>\n",
       "      <th>Roma</th>\n",
       "      <th>Milão</th>\n",
       "      <th>Toscana</th>\n",
       "      <th>Florença</th>\n",
       "    </tr>\n",
       "  </thead>\n",
       "  <tbody>\n",
       "    <tr>\n",
       "      <th>2000-01-06</th>\n",
       "      <td>-1.262898</td>\n",
       "      <td>-0.460597</td>\n",
       "      <td>-0.337807</td>\n",
       "      <td>0.019524</td>\n",
       "    </tr>\n",
       "    <tr>\n",
       "      <th>2000-01-13</th>\n",
       "      <td>-1.221449</td>\n",
       "      <td>-0.155623</td>\n",
       "      <td>1.434020</td>\n",
       "      <td>-0.633530</td>\n",
       "    </tr>\n",
       "  </tbody>\n",
       "</table>\n",
       "</div>"
      ],
      "text/plain": [
       "                Roma     Milão   Toscana  Florença\n",
       "2000-01-06 -1.262898 -0.460597 -0.337807  0.019524\n",
       "2000-01-13 -1.221449 -0.155623  1.434020 -0.633530"
      ]
     },
     "execution_count": 101,
     "metadata": {},
     "output_type": "execute_result"
    }
   ],
   "source": [
    "frame.resample('W-THU').ffill()"
   ]
  },
  {
   "cell_type": "code",
   "execution_count": 102,
   "id": "8aef1c25-a38f-4c02-bbc9-74f821490463",
   "metadata": {},
   "outputs": [],
   "source": [
    "frame = pd.DataFrame(np.random.randn(24, 4),\n",
    "                     ......: index=pd.period_range('1-2000', '12-2001',\n",
    "                     ......: freq='M'),\n",
    "                     ......: columns=['Roma', 'Milão', 'Toscana', 'Florença'])"
   ]
  },
  {
   "cell_type": "code",
   "execution_count": 103,
   "id": "94dd3bd0-4953-4279-b727-c956b6578ac4",
   "metadata": {},
   "outputs": [
    {
     "data": {
      "text/html": [
       "<div>\n",
       "<style scoped>\n",
       "    .dataframe tbody tr th:only-of-type {\n",
       "        vertical-align: middle;\n",
       "    }\n",
       "\n",
       "    .dataframe tbody tr th {\n",
       "        vertical-align: top;\n",
       "    }\n",
       "\n",
       "    .dataframe thead th {\n",
       "        text-align: right;\n",
       "    }\n",
       "</style>\n",
       "<table border=\"1\" class=\"dataframe\">\n",
       "  <thead>\n",
       "    <tr style=\"text-align: right;\">\n",
       "      <th></th>\n",
       "      <th>Roma</th>\n",
       "      <th>Milão</th>\n",
       "      <th>Toscana</th>\n",
       "      <th>Florença</th>\n",
       "    </tr>\n",
       "  </thead>\n",
       "  <tbody>\n",
       "    <tr>\n",
       "      <th>2000-01</th>\n",
       "      <td>-0.361283</td>\n",
       "      <td>0.038700</td>\n",
       "      <td>-1.179974</td>\n",
       "      <td>-0.960737</td>\n",
       "    </tr>\n",
       "    <tr>\n",
       "      <th>2000-02</th>\n",
       "      <td>1.593640</td>\n",
       "      <td>-1.099010</td>\n",
       "      <td>0.111984</td>\n",
       "      <td>0.408049</td>\n",
       "    </tr>\n",
       "    <tr>\n",
       "      <th>2000-03</th>\n",
       "      <td>0.506001</td>\n",
       "      <td>1.749602</td>\n",
       "      <td>0.067533</td>\n",
       "      <td>0.262467</td>\n",
       "    </tr>\n",
       "    <tr>\n",
       "      <th>2000-04</th>\n",
       "      <td>0.456867</td>\n",
       "      <td>-1.708282</td>\n",
       "      <td>0.267499</td>\n",
       "      <td>-0.845547</td>\n",
       "    </tr>\n",
       "    <tr>\n",
       "      <th>2000-05</th>\n",
       "      <td>0.353380</td>\n",
       "      <td>-0.441149</td>\n",
       "      <td>-1.611670</td>\n",
       "      <td>-0.246093</td>\n",
       "    </tr>\n",
       "  </tbody>\n",
       "</table>\n",
       "</div>"
      ],
      "text/plain": [
       "             Roma     Milão   Toscana  Florença\n",
       "2000-01 -0.361283  0.038700 -1.179974 -0.960737\n",
       "2000-02  1.593640 -1.099010  0.111984  0.408049\n",
       "2000-03  0.506001  1.749602  0.067533  0.262467\n",
       "2000-04  0.456867 -1.708282  0.267499 -0.845547\n",
       "2000-05  0.353380 -0.441149 -1.611670 -0.246093"
      ]
     },
     "execution_count": 103,
     "metadata": {},
     "output_type": "execute_result"
    }
   ],
   "source": [
    "frame[:5]"
   ]
  },
  {
   "cell_type": "code",
   "execution_count": 104,
   "id": "16425efb-e3ea-4dda-b17f-d8ce4e8f7c79",
   "metadata": {},
   "outputs": [
    {
     "name": "stderr",
     "output_type": "stream",
     "text": [
      "/tmp/ipykernel_20664/1557579838.py:1: FutureWarning: 'A-DEC' is deprecated and will be removed in a future version, please use 'Y-DEC' instead.\n",
      "  annual_frame = frame.resample('A-DEC').mean()\n",
      "/tmp/ipykernel_20664/1557579838.py:1: FutureWarning: Resampling with a PeriodIndex is deprecated. Cast index to DatetimeIndex before resampling instead.\n",
      "  annual_frame = frame.resample('A-DEC').mean()\n"
     ]
    }
   ],
   "source": [
    "annual_frame = frame.resample('A-DEC').mean()"
   ]
  },
  {
   "cell_type": "code",
   "execution_count": 105,
   "id": "80e9aae1-6739-477f-a32f-41f0e930f688",
   "metadata": {},
   "outputs": [
    {
     "data": {
      "text/html": [
       "<div>\n",
       "<style scoped>\n",
       "    .dataframe tbody tr th:only-of-type {\n",
       "        vertical-align: middle;\n",
       "    }\n",
       "\n",
       "    .dataframe tbody tr th {\n",
       "        vertical-align: top;\n",
       "    }\n",
       "\n",
       "    .dataframe thead th {\n",
       "        text-align: right;\n",
       "    }\n",
       "</style>\n",
       "<table border=\"1\" class=\"dataframe\">\n",
       "  <thead>\n",
       "    <tr style=\"text-align: right;\">\n",
       "      <th></th>\n",
       "      <th>Roma</th>\n",
       "      <th>Milão</th>\n",
       "      <th>Toscana</th>\n",
       "      <th>Florença</th>\n",
       "    </tr>\n",
       "  </thead>\n",
       "  <tbody>\n",
       "    <tr>\n",
       "      <th>2000</th>\n",
       "      <td>0.085982</td>\n",
       "      <td>-0.340420</td>\n",
       "      <td>-0.347810</td>\n",
       "      <td>-0.309705</td>\n",
       "    </tr>\n",
       "    <tr>\n",
       "      <th>2001</th>\n",
       "      <td>-0.100849</td>\n",
       "      <td>-0.201187</td>\n",
       "      <td>0.347933</td>\n",
       "      <td>0.120582</td>\n",
       "    </tr>\n",
       "  </tbody>\n",
       "</table>\n",
       "</div>"
      ],
      "text/plain": [
       "          Roma     Milão   Toscana  Florença\n",
       "2000  0.085982 -0.340420 -0.347810 -0.309705\n",
       "2001 -0.100849 -0.201187  0.347933  0.120582"
      ]
     },
     "execution_count": 105,
     "metadata": {},
     "output_type": "execute_result"
    }
   ],
   "source": [
    "annual_frame"
   ]
  },
  {
   "cell_type": "code",
   "execution_count": 106,
   "id": "25f15399-4e6e-48ef-a13b-c3086fc41b2f",
   "metadata": {},
   "outputs": [
    {
     "name": "stderr",
     "output_type": "stream",
     "text": [
      "/tmp/ipykernel_20664/2878672077.py:1: FutureWarning: Resampling with a PeriodIndex is deprecated. Cast index to DatetimeIndex before resampling instead.\n",
      "  annual_frame.resample('Q-DEC').ffill()\n"
     ]
    },
    {
     "data": {
      "text/html": [
       "<div>\n",
       "<style scoped>\n",
       "    .dataframe tbody tr th:only-of-type {\n",
       "        vertical-align: middle;\n",
       "    }\n",
       "\n",
       "    .dataframe tbody tr th {\n",
       "        vertical-align: top;\n",
       "    }\n",
       "\n",
       "    .dataframe thead th {\n",
       "        text-align: right;\n",
       "    }\n",
       "</style>\n",
       "<table border=\"1\" class=\"dataframe\">\n",
       "  <thead>\n",
       "    <tr style=\"text-align: right;\">\n",
       "      <th></th>\n",
       "      <th>Roma</th>\n",
       "      <th>Milão</th>\n",
       "      <th>Toscana</th>\n",
       "      <th>Florença</th>\n",
       "    </tr>\n",
       "  </thead>\n",
       "  <tbody>\n",
       "    <tr>\n",
       "      <th>2000Q1</th>\n",
       "      <td>0.085982</td>\n",
       "      <td>-0.340420</td>\n",
       "      <td>-0.347810</td>\n",
       "      <td>-0.309705</td>\n",
       "    </tr>\n",
       "    <tr>\n",
       "      <th>2000Q2</th>\n",
       "      <td>0.085982</td>\n",
       "      <td>-0.340420</td>\n",
       "      <td>-0.347810</td>\n",
       "      <td>-0.309705</td>\n",
       "    </tr>\n",
       "    <tr>\n",
       "      <th>2000Q3</th>\n",
       "      <td>0.085982</td>\n",
       "      <td>-0.340420</td>\n",
       "      <td>-0.347810</td>\n",
       "      <td>-0.309705</td>\n",
       "    </tr>\n",
       "    <tr>\n",
       "      <th>2000Q4</th>\n",
       "      <td>0.085982</td>\n",
       "      <td>-0.340420</td>\n",
       "      <td>-0.347810</td>\n",
       "      <td>-0.309705</td>\n",
       "    </tr>\n",
       "    <tr>\n",
       "      <th>2001Q1</th>\n",
       "      <td>-0.100849</td>\n",
       "      <td>-0.201187</td>\n",
       "      <td>0.347933</td>\n",
       "      <td>0.120582</td>\n",
       "    </tr>\n",
       "    <tr>\n",
       "      <th>2001Q2</th>\n",
       "      <td>-0.100849</td>\n",
       "      <td>-0.201187</td>\n",
       "      <td>0.347933</td>\n",
       "      <td>0.120582</td>\n",
       "    </tr>\n",
       "    <tr>\n",
       "      <th>2001Q3</th>\n",
       "      <td>-0.100849</td>\n",
       "      <td>-0.201187</td>\n",
       "      <td>0.347933</td>\n",
       "      <td>0.120582</td>\n",
       "    </tr>\n",
       "    <tr>\n",
       "      <th>2001Q4</th>\n",
       "      <td>-0.100849</td>\n",
       "      <td>-0.201187</td>\n",
       "      <td>0.347933</td>\n",
       "      <td>0.120582</td>\n",
       "    </tr>\n",
       "  </tbody>\n",
       "</table>\n",
       "</div>"
      ],
      "text/plain": [
       "            Roma     Milão   Toscana  Florença\n",
       "2000Q1  0.085982 -0.340420 -0.347810 -0.309705\n",
       "2000Q2  0.085982 -0.340420 -0.347810 -0.309705\n",
       "2000Q3  0.085982 -0.340420 -0.347810 -0.309705\n",
       "2000Q4  0.085982 -0.340420 -0.347810 -0.309705\n",
       "2001Q1 -0.100849 -0.201187  0.347933  0.120582\n",
       "2001Q2 -0.100849 -0.201187  0.347933  0.120582\n",
       "2001Q3 -0.100849 -0.201187  0.347933  0.120582\n",
       "2001Q4 -0.100849 -0.201187  0.347933  0.120582"
      ]
     },
     "execution_count": 106,
     "metadata": {},
     "output_type": "execute_result"
    }
   ],
   "source": [
    "annual_frame.resample('Q-DEC').ffill()"
   ]
  },
  {
   "cell_type": "code",
   "execution_count": 107,
   "id": "aa3aff63-089e-4580-ba98-9f5b70fc1194",
   "metadata": {},
   "outputs": [
    {
     "name": "stderr",
     "output_type": "stream",
     "text": [
      "/tmp/ipykernel_20664/389194020.py:1: FutureWarning: The 'convention' keyword in DataFrame.resample is deprecated and will be removed in a future version. Explicitly cast PeriodIndex to DatetimeIndex before resampling instead.\n",
      "  annual_frame.resample('Q-DEC', convention='end').ffill()\n",
      "/tmp/ipykernel_20664/389194020.py:1: FutureWarning: Resampling with a PeriodIndex is deprecated. Cast index to DatetimeIndex before resampling instead.\n",
      "  annual_frame.resample('Q-DEC', convention='end').ffill()\n"
     ]
    },
    {
     "data": {
      "text/html": [
       "<div>\n",
       "<style scoped>\n",
       "    .dataframe tbody tr th:only-of-type {\n",
       "        vertical-align: middle;\n",
       "    }\n",
       "\n",
       "    .dataframe tbody tr th {\n",
       "        vertical-align: top;\n",
       "    }\n",
       "\n",
       "    .dataframe thead th {\n",
       "        text-align: right;\n",
       "    }\n",
       "</style>\n",
       "<table border=\"1\" class=\"dataframe\">\n",
       "  <thead>\n",
       "    <tr style=\"text-align: right;\">\n",
       "      <th></th>\n",
       "      <th>Roma</th>\n",
       "      <th>Milão</th>\n",
       "      <th>Toscana</th>\n",
       "      <th>Florença</th>\n",
       "    </tr>\n",
       "  </thead>\n",
       "  <tbody>\n",
       "    <tr>\n",
       "      <th>2000Q4</th>\n",
       "      <td>0.085982</td>\n",
       "      <td>-0.340420</td>\n",
       "      <td>-0.347810</td>\n",
       "      <td>-0.309705</td>\n",
       "    </tr>\n",
       "    <tr>\n",
       "      <th>2001Q1</th>\n",
       "      <td>0.085982</td>\n",
       "      <td>-0.340420</td>\n",
       "      <td>-0.347810</td>\n",
       "      <td>-0.309705</td>\n",
       "    </tr>\n",
       "    <tr>\n",
       "      <th>2001Q2</th>\n",
       "      <td>0.085982</td>\n",
       "      <td>-0.340420</td>\n",
       "      <td>-0.347810</td>\n",
       "      <td>-0.309705</td>\n",
       "    </tr>\n",
       "    <tr>\n",
       "      <th>2001Q3</th>\n",
       "      <td>0.085982</td>\n",
       "      <td>-0.340420</td>\n",
       "      <td>-0.347810</td>\n",
       "      <td>-0.309705</td>\n",
       "    </tr>\n",
       "    <tr>\n",
       "      <th>2001Q4</th>\n",
       "      <td>-0.100849</td>\n",
       "      <td>-0.201187</td>\n",
       "      <td>0.347933</td>\n",
       "      <td>0.120582</td>\n",
       "    </tr>\n",
       "  </tbody>\n",
       "</table>\n",
       "</div>"
      ],
      "text/plain": [
       "            Roma     Milão   Toscana  Florença\n",
       "2000Q4  0.085982 -0.340420 -0.347810 -0.309705\n",
       "2001Q1  0.085982 -0.340420 -0.347810 -0.309705\n",
       "2001Q2  0.085982 -0.340420 -0.347810 -0.309705\n",
       "2001Q3  0.085982 -0.340420 -0.347810 -0.309705\n",
       "2001Q4 -0.100849 -0.201187  0.347933  0.120582"
      ]
     },
     "execution_count": 107,
     "metadata": {},
     "output_type": "execute_result"
    }
   ],
   "source": [
    "annual_frame.resample('Q-DEC', convention='end').ffill()"
   ]
  },
  {
   "cell_type": "code",
   "execution_count": 108,
   "id": "988aecd1-0d37-4cda-b475-938c947f4c6e",
   "metadata": {},
   "outputs": [
    {
     "name": "stderr",
     "output_type": "stream",
     "text": [
      "/tmp/ipykernel_20664/3348307439.py:1: FutureWarning: Resampling with a PeriodIndex is deprecated. Cast index to DatetimeIndex before resampling instead.\n",
      "  annual_frame.resample('Q-MAR').ffill()\n"
     ]
    },
    {
     "data": {
      "text/html": [
       "<div>\n",
       "<style scoped>\n",
       "    .dataframe tbody tr th:only-of-type {\n",
       "        vertical-align: middle;\n",
       "    }\n",
       "\n",
       "    .dataframe tbody tr th {\n",
       "        vertical-align: top;\n",
       "    }\n",
       "\n",
       "    .dataframe thead th {\n",
       "        text-align: right;\n",
       "    }\n",
       "</style>\n",
       "<table border=\"1\" class=\"dataframe\">\n",
       "  <thead>\n",
       "    <tr style=\"text-align: right;\">\n",
       "      <th></th>\n",
       "      <th>Roma</th>\n",
       "      <th>Milão</th>\n",
       "      <th>Toscana</th>\n",
       "      <th>Florença</th>\n",
       "    </tr>\n",
       "  </thead>\n",
       "  <tbody>\n",
       "    <tr>\n",
       "      <th>2000Q4</th>\n",
       "      <td>0.085982</td>\n",
       "      <td>-0.340420</td>\n",
       "      <td>-0.347810</td>\n",
       "      <td>-0.309705</td>\n",
       "    </tr>\n",
       "    <tr>\n",
       "      <th>2001Q1</th>\n",
       "      <td>0.085982</td>\n",
       "      <td>-0.340420</td>\n",
       "      <td>-0.347810</td>\n",
       "      <td>-0.309705</td>\n",
       "    </tr>\n",
       "    <tr>\n",
       "      <th>2001Q2</th>\n",
       "      <td>0.085982</td>\n",
       "      <td>-0.340420</td>\n",
       "      <td>-0.347810</td>\n",
       "      <td>-0.309705</td>\n",
       "    </tr>\n",
       "    <tr>\n",
       "      <th>2001Q3</th>\n",
       "      <td>0.085982</td>\n",
       "      <td>-0.340420</td>\n",
       "      <td>-0.347810</td>\n",
       "      <td>-0.309705</td>\n",
       "    </tr>\n",
       "    <tr>\n",
       "      <th>2001Q4</th>\n",
       "      <td>-0.100849</td>\n",
       "      <td>-0.201187</td>\n",
       "      <td>0.347933</td>\n",
       "      <td>0.120582</td>\n",
       "    </tr>\n",
       "    <tr>\n",
       "      <th>2002Q1</th>\n",
       "      <td>-0.100849</td>\n",
       "      <td>-0.201187</td>\n",
       "      <td>0.347933</td>\n",
       "      <td>0.120582</td>\n",
       "    </tr>\n",
       "    <tr>\n",
       "      <th>2002Q2</th>\n",
       "      <td>-0.100849</td>\n",
       "      <td>-0.201187</td>\n",
       "      <td>0.347933</td>\n",
       "      <td>0.120582</td>\n",
       "    </tr>\n",
       "    <tr>\n",
       "      <th>2002Q3</th>\n",
       "      <td>-0.100849</td>\n",
       "      <td>-0.201187</td>\n",
       "      <td>0.347933</td>\n",
       "      <td>0.120582</td>\n",
       "    </tr>\n",
       "  </tbody>\n",
       "</table>\n",
       "</div>"
      ],
      "text/plain": [
       "            Roma     Milão   Toscana  Florença\n",
       "2000Q4  0.085982 -0.340420 -0.347810 -0.309705\n",
       "2001Q1  0.085982 -0.340420 -0.347810 -0.309705\n",
       "2001Q2  0.085982 -0.340420 -0.347810 -0.309705\n",
       "2001Q3  0.085982 -0.340420 -0.347810 -0.309705\n",
       "2001Q4 -0.100849 -0.201187  0.347933  0.120582\n",
       "2002Q1 -0.100849 -0.201187  0.347933  0.120582\n",
       "2002Q2 -0.100849 -0.201187  0.347933  0.120582\n",
       "2002Q3 -0.100849 -0.201187  0.347933  0.120582"
      ]
     },
     "execution_count": 108,
     "metadata": {},
     "output_type": "execute_result"
    }
   ],
   "source": [
    "annual_frame.resample('Q-MAR').ffill()"
   ]
  },
  {
   "cell_type": "code",
   "execution_count": 110,
   "id": "4c5574aa-01e0-4c90-b6ac-1a812056cdaf",
   "metadata": {},
   "outputs": [],
   "source": [
    "from scipy.stats import percentileofscore"
   ]
  },
  {
   "cell_type": "code",
   "execution_count": 111,
   "id": "8d09db39-fa73-4f0d-93e2-565848018f03",
   "metadata": {},
   "outputs": [],
   "source": [
    "score_at_2percent = lambda x: percentileofscore(x, 0.02)"
   ]
  }
 ],
 "metadata": {
  "kernelspec": {
   "display_name": "Python 3 (ipykernel)",
   "language": "python",
   "name": "python3"
  },
  "language_info": {
   "codemirror_mode": {
    "name": "ipython",
    "version": 3
   },
   "file_extension": ".py",
   "mimetype": "text/x-python",
   "name": "python",
   "nbconvert_exporter": "python",
   "pygments_lexer": "ipython3",
   "version": "3.12.1"
  }
 },
 "nbformat": 4,
 "nbformat_minor": 5
}
